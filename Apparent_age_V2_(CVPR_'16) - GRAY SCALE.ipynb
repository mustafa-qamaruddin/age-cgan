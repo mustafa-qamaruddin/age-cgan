{
 "cells": [
  {
   "cell_type": "code",
   "execution_count": 1,
   "metadata": {
    "colab": {
     "base_uri": "https://localhost:8080/",
     "height": 34
    },
    "colab_type": "code",
    "id": "Zs6pEGD5YjT9",
    "outputId": "689820b6-69c0-46b6-d100-188a0b9019d6"
   },
   "outputs": [],
   "source": [
    "# from google.colab import drive\n",
    "import os\n",
    "\n",
    "\n",
    "# drive.mount('/content/gdrive', force_remount=True)\n",
    "\n",
    "root_path = './'\n",
    "src_pth = '/media/qamaruddin/3D88CA1A4434D0CA/GANs/dataset'\n",
    "tgt_pth = os.path.join(root_path, 'tf_dataset_gray')"
   ]
  },
  {
   "cell_type": "code",
   "execution_count": 2,
   "metadata": {
    "colab": {
     "base_uri": "https://localhost:8080/",
     "height": 170
    },
    "colab_type": "code",
    "id": "qLZatZYfZIdK",
    "outputId": "e5a267c6-7fc3-40d9-fa7a-f041b6393680"
   },
   "outputs": [],
   "source": [
    "import zipfile\n",
    "import wget\n",
    "import os\n",
    "import face_recognition\n",
    "import numpy as np\n",
    "import pathlib\n",
    "import pandas as pd\n",
    "from math import ceil\n",
    "\n",
    "import tensorflow as tf\n",
    "tf.enable_eager_execution()\n",
    "\n",
    "import numpy as np\n",
    "import IPython.display as display\n",
    "import imutils\n",
    "from skimage.color import rgb2gray"
   ]
  },
  {
   "cell_type": "code",
   "execution_count": 3,
   "metadata": {
    "colab": {},
    "colab_type": "code",
    "id": "GypwKx0LZPH6"
   },
   "outputs": [],
   "source": [
    "base_dir = src_pth\n",
    "data_root = pathlib.Path(base_dir)\n",
    "\n",
    "train_set = data_root.glob('train/*.jpg')\n",
    "val_set = data_root.glob('val/*.jpg')\n",
    "test_set = data_root.glob('test/*.jpg')\n",
    "\n",
    "train_y = pd.read_csv(os.path.join(base_dir, 'train/train_gt.csv'))\n",
    "val_y = pd.read_csv(os.path.join(base_dir, 'val/valid_gt.csv'))\n",
    "test_y = pd.read_csv(os.path.join(base_dir, 'test/test_gt.csv'))"
   ]
  },
  {
   "cell_type": "code",
   "execution_count": 4,
   "metadata": {
    "colab": {},
    "colab_type": "code",
    "id": "Zm2NxuVkZTgR"
   },
   "outputs": [],
   "source": [
    "train_y['age'] = train_y['mean'].apply(lambda x: ceil(x))"
   ]
  },
  {
   "cell_type": "code",
   "execution_count": 5,
   "metadata": {
    "colab": {},
    "colab_type": "code",
    "id": "oJ03Yb26aEJ2"
   },
   "outputs": [],
   "source": [
    "def groupify_age(x):\n",
    "    x = ceil(x)\n",
    "    if x < 10:\n",
    "        return 0\n",
    "    elif x < 20:\n",
    "        return 1\n",
    "    elif x < 30:\n",
    "        return 2\n",
    "    elif x < 40:\n",
    "        return 3\n",
    "    elif x < 50:\n",
    "        return 4\n",
    "    elif x < 60:\n",
    "        return 5\n",
    "    elif x < 70:\n",
    "        return 6\n",
    "    else:\n",
    "        return 7"
   ]
  },
  {
   "cell_type": "code",
   "execution_count": 6,
   "metadata": {
    "colab": {},
    "colab_type": "code",
    "id": "i-EOudZZaH42"
   },
   "outputs": [],
   "source": [
    "train_y['age'] = train_y['mean'].apply(groupify_age)\n",
    "val_y['age'] = val_y['mean'].apply(groupify_age)\n",
    "test_y['age'] = test_y['mean'].apply(groupify_age)"
   ]
  },
  {
   "cell_type": "code",
   "execution_count": 7,
   "metadata": {
    "colab": {},
    "colab_type": "code",
    "id": "3hIP6YlwaLwP"
   },
   "outputs": [],
   "source": [
    "train_y = train_y.drop(columns=['mean', 'stdv'])\n",
    "val_y = val_y.drop(columns=['mean', 'stdv'])\n",
    "test_y = test_y.drop(columns=['mean', 'stdv'])"
   ]
  },
  {
   "cell_type": "code",
   "execution_count": 8,
   "metadata": {
    "colab": {},
    "colab_type": "code",
    "id": "9IrCr1f7aPH2"
   },
   "outputs": [],
   "source": [
    "train_y = pd.concat([train_y, pd.get_dummies(pd.Categorical(train_y['age']))], axis=1)\n",
    "val_y = pd.concat([val_y, pd.get_dummies(pd.Categorical(val_y['age']))], axis=1)\n",
    "test_y = pd.concat([test_y, pd.get_dummies(pd.Categorical(test_y['age']))], axis=1)"
   ]
  },
  {
   "cell_type": "code",
   "execution_count": 9,
   "metadata": {
    "colab": {},
    "colab_type": "code",
    "id": "NBDkbjleaSnf"
   },
   "outputs": [],
   "source": [
    "train_y = train_y.set_index(['image'])\n",
    "val_y = val_y.set_index(['image'])\n",
    "test_y = test_y.set_index(['image'])"
   ]
  },
  {
   "cell_type": "code",
   "execution_count": 10,
   "metadata": {
    "colab": {},
    "colab_type": "code",
    "id": "GD3wFF-2aYAn"
   },
   "outputs": [],
   "source": [
    "train_y = train_y.drop(columns=['age'])\n",
    "val_y = val_y.drop(columns=['age'])\n",
    "test_y = test_y.drop(columns=['age'])"
   ]
  },
  {
   "cell_type": "code",
   "execution_count": 11,
   "metadata": {
    "colab": {
     "base_uri": "https://localhost:8080/",
     "height": 235
    },
    "colab_type": "code",
    "id": "rLpVQAaLabXM",
    "outputId": "4841ceec-eae7-470b-fa3e-101e20faafba"
   },
   "outputs": [
    {
     "data": {
      "text/html": [
       "<div>\n",
       "<style scoped>\n",
       "    .dataframe tbody tr th:only-of-type {\n",
       "        vertical-align: middle;\n",
       "    }\n",
       "\n",
       "    .dataframe tbody tr th {\n",
       "        vertical-align: top;\n",
       "    }\n",
       "\n",
       "    .dataframe thead th {\n",
       "        text-align: right;\n",
       "    }\n",
       "</style>\n",
       "<table border=\"1\" class=\"dataframe\">\n",
       "  <thead>\n",
       "    <tr style=\"text-align: right;\">\n",
       "      <th></th>\n",
       "      <th>0</th>\n",
       "      <th>1</th>\n",
       "      <th>2</th>\n",
       "      <th>3</th>\n",
       "      <th>4</th>\n",
       "      <th>5</th>\n",
       "      <th>6</th>\n",
       "      <th>7</th>\n",
       "    </tr>\n",
       "    <tr>\n",
       "      <th>image</th>\n",
       "      <th></th>\n",
       "      <th></th>\n",
       "      <th></th>\n",
       "      <th></th>\n",
       "      <th></th>\n",
       "      <th></th>\n",
       "      <th></th>\n",
       "      <th></th>\n",
       "    </tr>\n",
       "  </thead>\n",
       "  <tbody>\n",
       "    <tr>\n",
       "      <th>003856.jpg</th>\n",
       "      <td>0</td>\n",
       "      <td>0</td>\n",
       "      <td>0</td>\n",
       "      <td>1</td>\n",
       "      <td>0</td>\n",
       "      <td>0</td>\n",
       "      <td>0</td>\n",
       "      <td>0</td>\n",
       "    </tr>\n",
       "    <tr>\n",
       "      <th>001060.jpg</th>\n",
       "      <td>0</td>\n",
       "      <td>0</td>\n",
       "      <td>0</td>\n",
       "      <td>1</td>\n",
       "      <td>0</td>\n",
       "      <td>0</td>\n",
       "      <td>0</td>\n",
       "      <td>0</td>\n",
       "    </tr>\n",
       "    <tr>\n",
       "      <th>003987.jpg</th>\n",
       "      <td>0</td>\n",
       "      <td>0</td>\n",
       "      <td>1</td>\n",
       "      <td>0</td>\n",
       "      <td>0</td>\n",
       "      <td>0</td>\n",
       "      <td>0</td>\n",
       "      <td>0</td>\n",
       "    </tr>\n",
       "    <tr>\n",
       "      <th>002290.jpg</th>\n",
       "      <td>0</td>\n",
       "      <td>0</td>\n",
       "      <td>0</td>\n",
       "      <td>0</td>\n",
       "      <td>0</td>\n",
       "      <td>0</td>\n",
       "      <td>1</td>\n",
       "      <td>0</td>\n",
       "    </tr>\n",
       "    <tr>\n",
       "      <th>001969.jpg</th>\n",
       "      <td>0</td>\n",
       "      <td>0</td>\n",
       "      <td>1</td>\n",
       "      <td>0</td>\n",
       "      <td>0</td>\n",
       "      <td>0</td>\n",
       "      <td>0</td>\n",
       "      <td>0</td>\n",
       "    </tr>\n",
       "  </tbody>\n",
       "</table>\n",
       "</div>"
      ],
      "text/plain": [
       "            0  1  2  3  4  5  6  7\n",
       "image                             \n",
       "003856.jpg  0  0  0  1  0  0  0  0\n",
       "001060.jpg  0  0  0  1  0  0  0  0\n",
       "003987.jpg  0  0  1  0  0  0  0  0\n",
       "002290.jpg  0  0  0  0  0  0  1  0\n",
       "001969.jpg  0  0  1  0  0  0  0  0"
      ]
     },
     "execution_count": 11,
     "metadata": {},
     "output_type": "execute_result"
    }
   ],
   "source": [
    "train_y.head()"
   ]
  },
  {
   "cell_type": "code",
   "execution_count": 12,
   "metadata": {
    "colab": {
     "base_uri": "https://localhost:8080/",
     "height": 235
    },
    "colab_type": "code",
    "id": "OIHwoJMVaov4",
    "outputId": "b0ac280d-77c2-4e21-c95d-ee5323f1c6d0"
   },
   "outputs": [
    {
     "data": {
      "text/html": [
       "<div>\n",
       "<style scoped>\n",
       "    .dataframe tbody tr th:only-of-type {\n",
       "        vertical-align: middle;\n",
       "    }\n",
       "\n",
       "    .dataframe tbody tr th {\n",
       "        vertical-align: top;\n",
       "    }\n",
       "\n",
       "    .dataframe thead th {\n",
       "        text-align: right;\n",
       "    }\n",
       "</style>\n",
       "<table border=\"1\" class=\"dataframe\">\n",
       "  <thead>\n",
       "    <tr style=\"text-align: right;\">\n",
       "      <th></th>\n",
       "      <th>0</th>\n",
       "      <th>1</th>\n",
       "      <th>2</th>\n",
       "      <th>3</th>\n",
       "      <th>4</th>\n",
       "      <th>5</th>\n",
       "      <th>6</th>\n",
       "      <th>7</th>\n",
       "    </tr>\n",
       "    <tr>\n",
       "      <th>image</th>\n",
       "      <th></th>\n",
       "      <th></th>\n",
       "      <th></th>\n",
       "      <th></th>\n",
       "      <th></th>\n",
       "      <th></th>\n",
       "      <th></th>\n",
       "      <th></th>\n",
       "    </tr>\n",
       "  </thead>\n",
       "  <tbody>\n",
       "    <tr>\n",
       "      <th>001756.jpg</th>\n",
       "      <td>1</td>\n",
       "      <td>0</td>\n",
       "      <td>0</td>\n",
       "      <td>0</td>\n",
       "      <td>0</td>\n",
       "      <td>0</td>\n",
       "      <td>0</td>\n",
       "      <td>0</td>\n",
       "    </tr>\n",
       "    <tr>\n",
       "      <th>000101.jpg</th>\n",
       "      <td>0</td>\n",
       "      <td>1</td>\n",
       "      <td>0</td>\n",
       "      <td>0</td>\n",
       "      <td>0</td>\n",
       "      <td>0</td>\n",
       "      <td>0</td>\n",
       "      <td>0</td>\n",
       "    </tr>\n",
       "    <tr>\n",
       "      <th>003068.jpg</th>\n",
       "      <td>0</td>\n",
       "      <td>0</td>\n",
       "      <td>0</td>\n",
       "      <td>0</td>\n",
       "      <td>1</td>\n",
       "      <td>0</td>\n",
       "      <td>0</td>\n",
       "      <td>0</td>\n",
       "    </tr>\n",
       "    <tr>\n",
       "      <th>000994.jpg</th>\n",
       "      <td>0</td>\n",
       "      <td>0</td>\n",
       "      <td>0</td>\n",
       "      <td>0</td>\n",
       "      <td>1</td>\n",
       "      <td>0</td>\n",
       "      <td>0</td>\n",
       "      <td>0</td>\n",
       "    </tr>\n",
       "    <tr>\n",
       "      <th>000205.jpg</th>\n",
       "      <td>0</td>\n",
       "      <td>0</td>\n",
       "      <td>0</td>\n",
       "      <td>0</td>\n",
       "      <td>1</td>\n",
       "      <td>0</td>\n",
       "      <td>0</td>\n",
       "      <td>0</td>\n",
       "    </tr>\n",
       "  </tbody>\n",
       "</table>\n",
       "</div>"
      ],
      "text/plain": [
       "            0  1  2  3  4  5  6  7\n",
       "image                             \n",
       "001756.jpg  1  0  0  0  0  0  0  0\n",
       "000101.jpg  0  1  0  0  0  0  0  0\n",
       "003068.jpg  0  0  0  0  1  0  0  0\n",
       "000994.jpg  0  0  0  0  1  0  0  0\n",
       "000205.jpg  0  0  0  0  1  0  0  0"
      ]
     },
     "execution_count": 12,
     "metadata": {},
     "output_type": "execute_result"
    }
   ],
   "source": [
    "train_y.tail()"
   ]
  },
  {
   "cell_type": "code",
   "execution_count": 13,
   "metadata": {
    "colab": {
     "base_uri": "https://localhost:8080/",
     "height": 297
    },
    "colab_type": "code",
    "id": "yGjkE7pParFA",
    "outputId": "fb5ae0a4-fd56-4027-a368-83b793cc7403"
   },
   "outputs": [
    {
     "data": {
      "text/html": [
       "<div>\n",
       "<style scoped>\n",
       "    .dataframe tbody tr th:only-of-type {\n",
       "        vertical-align: middle;\n",
       "    }\n",
       "\n",
       "    .dataframe tbody tr th {\n",
       "        vertical-align: top;\n",
       "    }\n",
       "\n",
       "    .dataframe thead th {\n",
       "        text-align: right;\n",
       "    }\n",
       "</style>\n",
       "<table border=\"1\" class=\"dataframe\">\n",
       "  <thead>\n",
       "    <tr style=\"text-align: right;\">\n",
       "      <th></th>\n",
       "      <th>0</th>\n",
       "      <th>1</th>\n",
       "      <th>2</th>\n",
       "      <th>3</th>\n",
       "      <th>4</th>\n",
       "      <th>5</th>\n",
       "      <th>6</th>\n",
       "      <th>7</th>\n",
       "    </tr>\n",
       "  </thead>\n",
       "  <tbody>\n",
       "    <tr>\n",
       "      <th>count</th>\n",
       "      <td>4113.000000</td>\n",
       "      <td>4113.000000</td>\n",
       "      <td>4113.000000</td>\n",
       "      <td>4113.000000</td>\n",
       "      <td>4113.000000</td>\n",
       "      <td>4113.000000</td>\n",
       "      <td>4113.000000</td>\n",
       "      <td>4113.000000</td>\n",
       "    </tr>\n",
       "    <tr>\n",
       "      <th>mean</th>\n",
       "      <td>0.084367</td>\n",
       "      <td>0.086312</td>\n",
       "      <td>0.364940</td>\n",
       "      <td>0.237053</td>\n",
       "      <td>0.105762</td>\n",
       "      <td>0.078288</td>\n",
       "      <td>0.032336</td>\n",
       "      <td>0.010941</td>\n",
       "    </tr>\n",
       "    <tr>\n",
       "      <th>std</th>\n",
       "      <td>0.277971</td>\n",
       "      <td>0.280858</td>\n",
       "      <td>0.481472</td>\n",
       "      <td>0.425327</td>\n",
       "      <td>0.307570</td>\n",
       "      <td>0.268657</td>\n",
       "      <td>0.176914</td>\n",
       "      <td>0.104038</td>\n",
       "    </tr>\n",
       "    <tr>\n",
       "      <th>min</th>\n",
       "      <td>0.000000</td>\n",
       "      <td>0.000000</td>\n",
       "      <td>0.000000</td>\n",
       "      <td>0.000000</td>\n",
       "      <td>0.000000</td>\n",
       "      <td>0.000000</td>\n",
       "      <td>0.000000</td>\n",
       "      <td>0.000000</td>\n",
       "    </tr>\n",
       "    <tr>\n",
       "      <th>25%</th>\n",
       "      <td>0.000000</td>\n",
       "      <td>0.000000</td>\n",
       "      <td>0.000000</td>\n",
       "      <td>0.000000</td>\n",
       "      <td>0.000000</td>\n",
       "      <td>0.000000</td>\n",
       "      <td>0.000000</td>\n",
       "      <td>0.000000</td>\n",
       "    </tr>\n",
       "    <tr>\n",
       "      <th>50%</th>\n",
       "      <td>0.000000</td>\n",
       "      <td>0.000000</td>\n",
       "      <td>0.000000</td>\n",
       "      <td>0.000000</td>\n",
       "      <td>0.000000</td>\n",
       "      <td>0.000000</td>\n",
       "      <td>0.000000</td>\n",
       "      <td>0.000000</td>\n",
       "    </tr>\n",
       "    <tr>\n",
       "      <th>75%</th>\n",
       "      <td>0.000000</td>\n",
       "      <td>0.000000</td>\n",
       "      <td>1.000000</td>\n",
       "      <td>0.000000</td>\n",
       "      <td>0.000000</td>\n",
       "      <td>0.000000</td>\n",
       "      <td>0.000000</td>\n",
       "      <td>0.000000</td>\n",
       "    </tr>\n",
       "    <tr>\n",
       "      <th>max</th>\n",
       "      <td>1.000000</td>\n",
       "      <td>1.000000</td>\n",
       "      <td>1.000000</td>\n",
       "      <td>1.000000</td>\n",
       "      <td>1.000000</td>\n",
       "      <td>1.000000</td>\n",
       "      <td>1.000000</td>\n",
       "      <td>1.000000</td>\n",
       "    </tr>\n",
       "  </tbody>\n",
       "</table>\n",
       "</div>"
      ],
      "text/plain": [
       "                 0            1            2            3            4  \\\n",
       "count  4113.000000  4113.000000  4113.000000  4113.000000  4113.000000   \n",
       "mean      0.084367     0.086312     0.364940     0.237053     0.105762   \n",
       "std       0.277971     0.280858     0.481472     0.425327     0.307570   \n",
       "min       0.000000     0.000000     0.000000     0.000000     0.000000   \n",
       "25%       0.000000     0.000000     0.000000     0.000000     0.000000   \n",
       "50%       0.000000     0.000000     0.000000     0.000000     0.000000   \n",
       "75%       0.000000     0.000000     1.000000     0.000000     0.000000   \n",
       "max       1.000000     1.000000     1.000000     1.000000     1.000000   \n",
       "\n",
       "                 5            6            7  \n",
       "count  4113.000000  4113.000000  4113.000000  \n",
       "mean      0.078288     0.032336     0.010941  \n",
       "std       0.268657     0.176914     0.104038  \n",
       "min       0.000000     0.000000     0.000000  \n",
       "25%       0.000000     0.000000     0.000000  \n",
       "50%       0.000000     0.000000     0.000000  \n",
       "75%       0.000000     0.000000     0.000000  \n",
       "max       1.000000     1.000000     1.000000  "
      ]
     },
     "execution_count": 13,
     "metadata": {},
     "output_type": "execute_result"
    }
   ],
   "source": [
    "train_y.describe()"
   ]
  },
  {
   "cell_type": "code",
   "execution_count": 21,
   "metadata": {
    "colab": {
     "base_uri": "https://localhost:8080/",
     "height": 159
    },
    "colab_type": "code",
    "id": "XjUVuOTtbIcy",
    "outputId": "889fdd16-55a0-4fb4-9bc3-63c4bd78232b"
   },
   "outputs": [
    {
     "data": {
      "image/png": "[encoded data removed]",
      "text/plain": [
       "<Figure size 432x288 with 5 Axes>"
      ]
     },
     "metadata": {
      "needs_background": "light"
     },
     "output_type": "display_data"
    },
    {
     "name": "stdout",
     "output_type": "stream",
     "text": [
      "(90, 89, 3) (32, 32, 3) (32, 32, 3) (32, 32, 1)\n",
      "(1024,)\n",
      "0.3350759658394608\n"
     ]
    }
   ],
   "source": [
    "import matplotlib.pyplot as plt\n",
    "%matplotlib inline\n",
    "\n",
    "\n",
    "img_path = os.path.join(src_pth, \"test/005694.jpg\")\n",
    "img = face_recognition.load_image_file(img_path)\n",
    "\n",
    "locations = face_recognition.face_locations(img)\n",
    "encodings = face_recognition.face_encodings(img, locations)\n",
    "\n",
    "for encoding, location in zip(encodings, locations):\n",
    "    top, right, bottom, left = location\n",
    "    face = img[top:bottom, left:right]\n",
    "    rsz = imutils.resize(face, width=32, height=32)\n",
    "    cropped = rsz[0:32, 0:32]\n",
    "    gray = rgb2gray(cropped)\n",
    "    # display images\n",
    "    fig, ax = plt.subplots(1,5)\n",
    "    ax[0].imshow(img)\n",
    "    ax[1].imshow(face)\n",
    "    ax[2].imshow(rsz)\n",
    "    ax[3].imshow(cropped)\n",
    "    ax[4].imshow(gray, cmap='gray')\n",
    "    plt.show();\n",
    "    \n",
    "    gray = np.expand_dims(rgb2gray(cropped), axis=-1)\n",
    "    \n",
    "    print(face.shape, rsz.shape, cropped.shape, gray.shape)\n",
    "    print(gray.ravel().shape)\n",
    "    print(np.mean(gray.ravel()))"
   ]
  },
  {
   "cell_type": "code",
   "execution_count": 23,
   "metadata": {
    "colab": {
     "base_uri": "https://localhost:8080/",
     "height": 194
    },
    "colab_type": "code",
    "id": "NROzxkZfU8d_",
    "outputId": "8a7a508e-ef39-4c09-ef3d-4de06fb87797"
   },
   "outputs": [
    {
     "name": "stdout",
     "output_type": "stream",
     "text": [
      "31 32 3\n",
      "(32, 32, 3)\n"
     ]
    },
    {
     "data": {
      "image/png": "[encoded data removed]",
      "text/plain": [
       "<Figure size 432x288 with 6 Axes>"
      ]
     },
     "metadata": {
      "needs_background": "light"
     },
     "output_type": "display_data"
    },
    {
     "name": "stdout",
     "output_type": "stream",
     "text": [
      "(107, 108, 3) (31, 32, 3) (31, 32, 3) (32, 32, 3)\n",
      "(2976,)\n",
      "(3072,)\n",
      "0.5943034471853257\n"
     ]
    }
   ],
   "source": [
    "\n",
    "img_path = os.path.join(src_pth, \"test/005822.jpg\")\n",
    "img = face_recognition.load_image_file(img_path)\n",
    "\n",
    "locations = face_recognition.face_locations(img)\n",
    "encodings = face_recognition.face_encodings(img, locations)\n",
    "\n",
    "for encoding, location in zip(encodings, locations):\n",
    "    top, right, bottom, left = location\n",
    "    face = img[top:bottom, left:right]\n",
    "    rsz = imutils.resize(face, width=32)\n",
    "    cropped = rsz[0:32, 0:32]\n",
    "    \n",
    "    width, height, depth = cropped.shape\n",
    "    print(width, height, depth)\n",
    "    padded = np.pad(cropped, ((32-width, 0), (0,0), (0,0)), 'constant', constant_values=0)\n",
    "    print(padded.shape)\n",
    "    gray = rgb2gray(cropped)\n",
    "    # display images\n",
    "    fig, ax = plt.subplots(1,6)\n",
    "    ax[0].imshow(img)\n",
    "    ax[1].imshow(face)\n",
    "    ax[2].imshow(rsz)\n",
    "    ax[3].imshow(cropped)\n",
    "    ax[4].imshow(padded)\n",
    "    ax[5].imshow(gray)\n",
    "    plt.show();\n",
    "    \n",
    "    print(face.shape, rsz.shape, cropped.shape, padded.shape)\n",
    "    print(cropped.ravel().shape)\n",
    "    print(padded.ravel().shape)\n",
    "    print(np.mean(gray.ravel()))"
   ]
  },
  {
   "cell_type": "code",
   "execution_count": 24,
   "metadata": {
    "colab": {
     "base_uri": "https://localhost:8080/",
     "height": 159
    },
    "colab_type": "code",
    "id": "qtS5ygSVVIB_",
    "outputId": "aaf4eda0-8968-486b-867d-e2a6e22e2a58"
   },
   "outputs": [
    {
     "data": {
      "image/png": "[encoded data removed]",
      "text/plain": [
       "<Figure size 432x288 with 4 Axes>"
      ]
     },
     "metadata": {
      "needs_background": "light"
     },
     "output_type": "display_data"
    },
    {
     "name": "stdout",
     "output_type": "stream",
     "text": [
      "(129, 129, 3) (32, 32, 3) (32, 32, 3)\n",
      "(3072,)\n",
      "0.5248401060814951\n"
     ]
    }
   ],
   "source": [
    "\n",
    "img_path = os.path.join(src_pth, \"test/005977.jpg\")\n",
    "img = face_recognition.load_image_file(img_path)\n",
    "\n",
    "locations = face_recognition.face_locations(img)\n",
    "encodings = face_recognition.face_encodings(img, locations)\n",
    "\n",
    "for encoding, location in zip(encodings, locations):\n",
    "    top, right, bottom, left = location\n",
    "    face = img[top:bottom, left:right]\n",
    "    rsz = imutils.resize(face, width=32, height=32)\n",
    "    cropped = rsz[0:32, 0:32]\n",
    "    gray = rgb2gray(cropped)\n",
    "    # display images\n",
    "    fig, ax = plt.subplots(1,4)\n",
    "    ax[0].imshow(img)\n",
    "    ax[1].imshow(face)\n",
    "    ax[2].imshow(rsz)\n",
    "    ax[3].imshow(cropped)\n",
    "    plt.show();\n",
    "    \n",
    "    print(face.shape, rsz.shape, cropped.shape)\n",
    "    print(cropped.ravel().shape)\n",
    "    print(np.mean(gray.ravel()))"
   ]
  },
  {
   "cell_type": "code",
   "execution_count": 25,
   "metadata": {
    "colab": {
     "base_uri": "https://localhost:8080/",
     "height": 159
    },
    "colab_type": "code",
    "id": "Uv3R6JDlVUDw",
    "outputId": "63afa25e-23fe-4b25-c9a1-eda37b1d1a6c"
   },
   "outputs": [
    {
     "data": {
      "image/png": "[encoded data removed]",
      "text/plain": [
       "<Figure size 432x288 with 4 Axes>"
      ]
     },
     "metadata": {
      "needs_background": "light"
     },
     "output_type": "display_data"
    },
    {
     "name": "stdout",
     "output_type": "stream",
     "text": [
      "(90, 89, 3) (32, 32, 3) (32, 32, 3)\n",
      "(3072,)\n",
      "0.5061066593903185\n"
     ]
    }
   ],
   "source": [
    "\n",
    "img_path = os.path.join(src_pth, \"test/006186.jpg\")\n",
    "img = face_recognition.load_image_file(img_path)\n",
    "\n",
    "locations = face_recognition.face_locations(img)\n",
    "encodings = face_recognition.face_encodings(img, locations)\n",
    "\n",
    "for encoding, location in zip(encodings, locations):\n",
    "    top, right, bottom, left = location\n",
    "    face = img[top:bottom, left:right]\n",
    "    rsz = imutils.resize(face, width=32, height=32)\n",
    "    cropped = rsz[0:32, 0:32]\n",
    "    gray = rgb2gray(cropped)\n",
    "    # display images\n",
    "    fig, ax = plt.subplots(1,4)\n",
    "    ax[0].imshow(img)\n",
    "    ax[1].imshow(face)\n",
    "    ax[2].imshow(rsz)\n",
    "    ax[3].imshow(cropped)\n",
    "    plt.show();\n",
    "    \n",
    "    print(face.shape, rsz.shape, cropped.shape)\n",
    "    print(cropped.ravel().shape)\n",
    "    print(np.mean(gray.ravel()))"
   ]
  },
  {
   "cell_type": "code",
   "execution_count": 52,
   "metadata": {
    "colab": {},
    "colab_type": "code",
    "id": "ph7L8Zq7asri"
   },
   "outputs": [],
   "source": [
    "from scipy.misc import imsave\n",
    "\n",
    "\n",
    "face_pth = os.path.join('./', 'binary_faces')\n",
    "\n",
    "\n",
    "if not os.path.exists(face_pth):\n",
    "    os.makedirs(face_pth)\n",
    "\n",
    "\n",
    "def encode_binary(writer, source_set, label_set):\n",
    "\n",
    "    counter = 0\n",
    "    for image in source_set:\n",
    "        if '(' in str(image) and ')' in str(image):\n",
    "          # skip duplicates\n",
    "          continue\n",
    "        idx = str(image).split('/')[-1]\n",
    "        try:\n",
    "          img = face_recognition.load_image_file(image)\n",
    "        except:\n",
    "          # avoid div by zero\n",
    "          continue\n",
    "        locations = face_recognition.face_locations(img)\n",
    "        encodings = face_recognition.face_encodings(img, locations)\n",
    "\n",
    "        for encoding, location in zip(encodings, locations):\n",
    "            y = label_set .loc[idx]\n",
    "\n",
    "            top, right, bottom, left = location\n",
    "            face = img[top:bottom, left:right]\n",
    "            rsz = imutils.resize(face, width=32, height=32)\n",
    "            cropped = rsz[0:32, 0:32]\n",
    "            width, height, depth = cropped.shape\n",
    "            padded = np.pad(cropped, ((32-width, 0), (0,0), (0,0)), 'constant', constant_values=0)\n",
    "            gray = rgb2gray(padded)\n",
    "            \n",
    "            # save image\n",
    "            imsave(\n",
    "                os.path.join(\n",
    "                    face_pth,\n",
    "                    '{}.png'.format(\n",
    "                        str(counter).zfill(4)\n",
    "                    )\n",
    "                ),\n",
    "                gray\n",
    "            )\n",
    "            \n",
    "            gray = np.expand_dims(gray, axis=-1)\n",
    "\n",
    "            \n",
    "            assert gray.ravel().shape == (1024,)\n",
    "            \n",
    "\n",
    "            feature = {\n",
    "                'enc': tf.train.Feature(float_list=tf.train.FloatList(value=encoding)),\n",
    "                'age': tf.train.Feature(int64_list=tf.train.Int64List(value=y)),\n",
    "                'img': tf.train.Feature(bytes_list=tf.train.BytesList(value=[gray.tostring()]))\n",
    "            }\n",
    "\n",
    "            record = tf.train.Example(features=tf.train.Features(feature=feature))\n",
    "\n",
    "            writer.write(record.SerializeToString())\n",
    "\n",
    "        counter += 1\n",
    "        if counter % 1000 == 0:\n",
    "            print(\"Complete: {}\".format(counter))"
   ]
  },
  {
   "cell_type": "code",
   "execution_count": 53,
   "metadata": {
    "colab": {
     "base_uri": "https://localhost:8080/",
     "height": 102
    },
    "colab_type": "code",
    "id": "9Xc5LzNJhUjm",
    "outputId": "4e4b3b98-4e1d-4063-cd16-8bb8dea6fc65"
   },
   "outputs": [
    {
     "name": "stdout",
     "output_type": "stream",
     "text": [
      "Processing Training:\n"
     ]
    },
    {
     "name": "stderr",
     "output_type": "stream",
     "text": [
      "/home/qamaruddin/.local/lib/python3.6/site-packages/ipykernel_launcher.py:46: DeprecationWarning: `imsave` is deprecated!\n",
      "`imsave` is deprecated in SciPy 1.0.0, and will be removed in 1.2.0.\n",
      "Use ``imageio.imwrite`` instead.\n"
     ]
    },
    {
     "name": "stdout",
     "output_type": "stream",
     "text": [
      "Processing Validation:\n"
     ]
    },
    {
     "name": "stderr",
     "output_type": "stream",
     "text": [
      "/home/qamaruddin/.local/lib/python3.6/site-packages/PIL/TiffImagePlugin.py:754: UserWarning: Possibly corrupt EXIF data.  Expecting to read 206 bytes but only got 0. Skipping tag 0\n",
      "  \" Skipping tag %s\" % (size, len(data), tag))\n",
      "/home/qamaruddin/.local/lib/python3.6/site-packages/PIL/TiffImagePlugin.py:754: UserWarning: Possibly corrupt EXIF data.  Expecting to read 65536 bytes but only got 0. Skipping tag 0\n",
      "  \" Skipping tag %s\" % (size, len(data), tag))\n",
      "/home/qamaruddin/.local/lib/python3.6/site-packages/PIL/TiffImagePlugin.py:754: UserWarning: Possibly corrupt EXIF data.  Expecting to read 170 bytes but only got 0. Skipping tag 0\n",
      "  \" Skipping tag %s\" % (size, len(data), tag))\n",
      "/home/qamaruddin/.local/lib/python3.6/site-packages/PIL/TiffImagePlugin.py:754: UserWarning: Possibly corrupt EXIF data.  Expecting to read 178 bytes but only got 0. Skipping tag 0\n",
      "  \" Skipping tag %s\" % (size, len(data), tag))\n",
      "/home/qamaruddin/.local/lib/python3.6/site-packages/PIL/TiffImagePlugin.py:754: UserWarning: Possibly corrupt EXIF data.  Expecting to read 266 bytes but only got 0. Skipping tag 0\n",
      "  \" Skipping tag %s\" % (size, len(data), tag))\n",
      "/home/qamaruddin/.local/lib/python3.6/site-packages/PIL/TiffImagePlugin.py:771: UserWarning: Corrupt EXIF data.  Expecting to read 12 bytes but only got 11. \n",
      "  warnings.warn(str(msg))\n"
     ]
    },
    {
     "name": "stdout",
     "output_type": "stream",
     "text": [
      "Complete: 1000\n",
      "Processing Testing:\n",
      "Complete: 1000\n",
      "Complete, Thank you!\n"
     ]
    }
   ],
   "source": [
    "if not os.path.exists(tgt_pth):\n",
    "    os.makedirs(tgt_pth)\n",
    "\n",
    "\n",
    "target_file = os.path.join(tgt_pth, 'train-temp.tfrecords')\n",
    "\n",
    "with tf.python_io.TFRecordWriter(target_file) as writer:\n",
    "    \n",
    "    print(\"Processing Training:\")\n",
    "    \n",
    "    encode_binary(writer, train_set, train_y)\n",
    "\n",
    "    print(\"Processing Validation:\")\n",
    "    encode_binary(writer, val_set, val_y)\n",
    "\n",
    "    print(\"Processing Testing:\")\n",
    "    encode_binary(writer, test_set, test_y)\n",
    "\n",
    "print(\"Complete, Thank you!\")"
   ]
  },
  {
   "cell_type": "code",
   "execution_count": null,
   "metadata": {
    "colab": {},
    "colab_type": "code",
    "id": "gqHAvmYChthH"
   },
   "outputs": [],
   "source": []
  },
  {
   "cell_type": "code",
   "execution_count": null,
   "metadata": {},
   "outputs": [],
   "source": []
  }
 ],
 "metadata": {
  "accelerator": "GPU",
  "colab": {
   "collapsed_sections": [],
   "name": "Apparent age V2 (CVPR '16)",
   "provenance": [],
   "version": "0.3.2"
  },
  "kernelspec": {
   "display_name": "Python 3",
   "language": "python",
   "name": "python3"
  },
  "language_info": {
   "codemirror_mode": {
    "name": "ipython",
    "version": 3
   },
   "file_extension": ".py",
   "mimetype": "text/x-python",
   "name": "python",
   "nbconvert_exporter": "python",
   "pygments_lexer": "ipython3",
   "version": "3.6.7"
  }
 },
 "nbformat": 4,
 "nbformat_minor": 1
}
