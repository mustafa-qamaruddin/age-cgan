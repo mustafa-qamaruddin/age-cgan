{
 "cells": [
  {
   "cell_type": "code",
   "execution_count": 1,
   "metadata": {
    "colab": {
     "base_uri": "https://localhost:8080/",
     "height": 122
    },
    "colab_type": "code",
    "id": "BIEdHLeqDLJH",
    "outputId": "bd25ca97-2443-4c65-d804-d9c0ff7b5586"
   },
   "outputs": [],
   "source": [
    "import os\n",
    "\n",
    "\n",
    "root_path = './'\n",
    "dataset_path = os.path.join(root_path, 'tf_dataset')\n",
    "\n",
    "models_path = os.path.join(root_path, 'saved_models')\n",
    "if not os.path.exists(models_path):\n",
    "  os.mkdir(models_path)"
   ]
  },
  {
   "cell_type": "code",
   "execution_count": 2,
   "metadata": {
    "colab": {},
    "colab_type": "code",
    "id": "XY64NlGCDdCr"
   },
   "outputs": [
    {
     "name": "stdout",
     "output_type": "stream",
     "text": [
      "1.13.1\n"
     ]
    },
    {
     "name": "stderr",
     "output_type": "stream",
     "text": [
      "Using TensorFlow backend.\n"
     ]
    }
   ],
   "source": [
    "import zipfile\n",
    "import os\n",
    "import numpy as np\n",
    "import pathlib\n",
    "import pandas as pd\n",
    "from math import ceil\n",
    "import tensorflow as tf\n",
    "# tf.enable_eager_execution()\n",
    "\n",
    "import numpy as np\n",
    "import IPython.display as display\n",
    "\n",
    "import keras\n",
    "\n",
    "print(tf.__version__)"
   ]
  },
  {
   "cell_type": "code",
   "execution_count": 3,
   "metadata": {
    "colab": {},
    "colab_type": "code",
    "id": "dWYY-ez0D6wt"
   },
   "outputs": [],
   "source": [
    "BATCH_SIZE = 1\n",
    "\n",
    "\n",
    "image_feature_description = {\n",
    "    'enc': tf.io.FixedLenSequenceFeature([], tf.float32, allow_missing=True),\n",
    "    'age': tf.io.FixedLenSequenceFeature([], tf.int64, allow_missing=True),\n",
    "    'img': tf.io.FixedLenSequenceFeature([], tf.string, allow_missing=True)\n",
    "}\n",
    "\n",
    "\n",
    "def _parse_image_function(example_proto):\n",
    "    return tf.io.parse_single_example(example_proto, image_feature_description)\n",
    "\n",
    "\n",
    "raw_train_dataset = tf.data.TFRecordDataset(os.path.join(dataset_path,'train.tfrecords'))\n",
    "parsed_train_dataset = raw_train_dataset.map(_parse_image_function)\n",
    "\n",
    "raw_val_dataset = tf.data.TFRecordDataset(os.path.join(dataset_path, 'val.tfrecords'))\n",
    "parsed_val_dataset = raw_val_dataset.map(_parse_image_function)\n",
    "\n",
    "raw_test_dataset = tf.data.TFRecordDataset(os.path.join(dataset_path, 'test.tfrecords'))\n",
    "parsed_test_dataset = raw_test_dataset.map(_parse_image_function)\n",
    "\n",
    "\n",
    "parsed_train_dataset = parsed_train_dataset.repeat()\n",
    "parsed_train_dataset = parsed_train_dataset.shuffle(1000)\n",
    "parsed_train_dataset = parsed_train_dataset.batch(BATCH_SIZE)\n",
    "dataset_iterator = parsed_train_dataset.make_one_shot_iterator()\n",
    "\n",
    "variable_dataset = dataset_iterator.get_next()"
   ]
  },
  {
   "cell_type": "code",
   "execution_count": 4,
   "metadata": {
    "colab": {},
    "colab_type": "code",
    "id": "HAuHCfjlFBOy"
   },
   "outputs": [],
   "source": [
    "enc_len = 128\n",
    "age_len = 8\n",
    "img_shape = (32, 32, 3)\n",
    "width, height, depth = (32, 32, 3)\n",
    "img_len = np.prod(img_shape)\n",
    "latent_dim = enc_len + age_len + img_len\n",
    "noise_len = 100  # 32 x 32 x 3\n",
    "input_dim = enc_len + age_len + noise_len\n",
    "cond_len = enc_len + age_len\n",
    "\n",
    "\n",
    "def build_discriminator():\n",
    "    model = keras.Sequential([\n",
    "        # dense 1\n",
    "        keras.layers.Dense(3072, input_shape=(latent_dim,)),\n",
    "        keras.layers.Activation(tf.nn.relu),\n",
    "        keras.layers.Dropout(0.2),\n",
    "        \n",
    "        # reshape 1d to 3d\n",
    "        keras.layers.Reshape((width, height, depth)),\n",
    "        \n",
    "        # conv block 1\n",
    "        keras.layers.Conv2D(filters=1, kernel_size=(3, 3), padding='same'),\n",
    "        keras.layers.Activation(tf.nn.relu),\n",
    "        keras.layers.MaxPooling2D(),\n",
    "        keras.layers.Dropout(0.2),\n",
    "        \n",
    "        # conv block 2\n",
    "        keras.layers.Conv2D(filters=2, kernel_size=(3, 3), padding='same'),\n",
    "        keras.layers.Activation(tf.nn.relu),\n",
    "        keras.layers.MaxPooling2D(),\n",
    "        keras.layers.Dropout(0.2),\n",
    "        \n",
    "        # conv block 3\n",
    "        keras.layers.Conv2D(filters=2, kernel_size=(3, 3), padding='same'),\n",
    "        keras.layers.Activation(tf.nn.relu),\n",
    "        keras.layers.MaxPooling2D(),\n",
    "        keras.layers.Dropout(0.2),\n",
    "        \n",
    "        # conv block 4\n",
    "        keras.layers.Conv2D(filters=1, kernel_size=(3, 3), padding='same'),\n",
    "        keras.layers.Activation(tf.nn.relu),\n",
    "        keras.layers.MaxPooling2D(),\n",
    "        keras.layers.Dropout(0.2),\n",
    "        \n",
    "        # flatten\n",
    "        keras.layers.Flatten(),\n",
    "        \n",
    "        # dense 2\n",
    "        keras.layers.Dense(128),\n",
    "        keras.layers.Activation(tf.nn.relu),\n",
    "        keras.layers.Dropout(0.2),\n",
    "        \n",
    "        # output\n",
    "        keras.layers.Dense(1),\n",
    "        keras.layers.Activation(tf.nn.sigmoid),\n",
    "    ])\n",
    "    \n",
    "    # condition\n",
    "    c1 = keras.layers.Input(shape=(enc_len,))\n",
    "    c2 = keras.layers.Input(shape=(age_len,))\n",
    "    \n",
    "    # image\n",
    "    z = keras.layers.Input(shape=img_shape)\n",
    "    \n",
    "    # flatten image\n",
    "    z_flat = keras.layers.Flatten()(z)\n",
    "    \n",
    "    # concatenation\n",
    "    inputs = keras.layers.concatenate([c1, c2, z_flat])\n",
    "    \n",
    "    # real or fake\n",
    "    outputs = model(inputs)\n",
    "    \n",
    "    return keras.models.Model([c1, c2, z], outputs)\n",
    "\n",
    "\n",
    "def build_generator():\n",
    "    model = keras.Sequential([\n",
    "        \n",
    "        # dense 1\n",
    "        keras.layers.Dense(3072, input_shape=(input_dim,)),\n",
    "        keras.layers.Activation(tf.nn.relu),\n",
    "        keras.layers.Dropout(0.2),\n",
    "        \n",
    "        # reshape 1d to 3d\n",
    "        keras.layers.Reshape((width, height, depth)),\n",
    "        \n",
    "        # transpose conv block 1\n",
    "        keras.layers.Conv2DTranspose(filters=1, kernel_size=(3, 3), padding='same'),\n",
    "        keras.layers.Activation(tf.nn.relu),\n",
    "        keras.layers.UpSampling2D(size=(2,2)),\n",
    "        keras.layers.Dropout(0.2),\n",
    "        \n",
    "        # transpose conv block 2\n",
    "        keras.layers.Conv2DTranspose(filters=2, kernel_size=(3, 3), padding='same'),\n",
    "        keras.layers.Activation(tf.nn.relu),\n",
    "        keras.layers.UpSampling2D(size=(2,2)),\n",
    "        keras.layers.Dropout(0.2),\n",
    "        \n",
    "        # transpose conv block 3\n",
    "        keras.layers.Conv2DTranspose(filters=2, kernel_size=(3, 3), padding='same'),\n",
    "        keras.layers.Activation(tf.nn.relu),\n",
    "        keras.layers.UpSampling2D(size=(2,2)),\n",
    "        keras.layers.Dropout(0.2),\n",
    "        \n",
    "        # transpose conv block 4\n",
    "        keras.layers.Conv2DTranspose(filters=1, kernel_size=(3, 3), padding='same'),\n",
    "        keras.layers.Activation(tf.nn.relu),\n",
    "        keras.layers.UpSampling2D(size=(2,2)),\n",
    "        keras.layers.Dropout(0.2),\n",
    "        \n",
    "        # flatten\n",
    "        keras.layers.Flatten(),\n",
    "        \n",
    "        # dense 3\n",
    "        keras.layers.Dense(3072, input_shape=(input_dim,)),\n",
    "        keras.layers.Activation(tf.nn.relu),\n",
    "        keras.layers.Dropout(0.2),\n",
    "        \n",
    "        # reshape 1d to 3d\n",
    "        keras.layers.Reshape((width, height, depth)),\n",
    "        \n",
    "        # output\n",
    "        keras.layers.Activation(tf.nn.tanh),\n",
    "    ])\n",
    "    \n",
    "    # condition\n",
    "    c1 = keras.layers.Input(shape=(enc_len,))\n",
    "    c2 = keras.layers.Input(shape=(age_len,))\n",
    "    \n",
    "    # noise\n",
    "    x = keras.layers.Input(shape=(noise_len,))\n",
    "\n",
    "    # concatenation\n",
    "    inputs = keras.layers.concatenate([c1, c2, x])\n",
    "    \n",
    "    # real or fake\n",
    "    outputs = model(inputs)\n",
    "    \n",
    "    return keras.models.Model([c1, c2, x], outputs)"
   ]
  },
  {
   "cell_type": "code",
   "execution_count": null,
   "metadata": {
    "colab": {},
    "colab_type": "code",
    "id": "zoYXZ0kE46LH"
   },
   "outputs": [
    {
     "name": "stdout",
     "output_type": "stream",
     "text": [
      "WARNING:tensorflow:From /usr/local/lib/python3.6/dist-packages/tensorflow/python/framework/op_def_library.py:263: colocate_with (from tensorflow.python.framework.ops) is deprecated and will be removed in a future version.\n",
      "Instructions for updating:\n",
      "Colocations handled automatically by placer.\n",
      "WARNING:tensorflow:From /usr/local/lib/python3.6/dist-packages/keras/backend/tensorflow_backend.py:3445: calling dropout (from tensorflow.python.ops.nn_ops) with keep_prob is deprecated and will be removed in a future version.\n",
      "Instructions for updating:\n",
      "Please use `rate` instead of `keep_prob`. Rate should be set to `rate = 1 - keep_prob`.\n"
     ]
    }
   ],
   "source": [
    "generator = build_generator()\n",
    "discriminator = build_discriminator()"
   ]
  },
  {
   "cell_type": "code",
   "execution_count": null,
   "metadata": {
    "colab": {},
    "colab_type": "code",
    "id": "tfo8J8jQ4-FH"
   },
   "outputs": [
    {
     "name": "stdout",
     "output_type": "stream",
     "text": [
      "__________________________________________________________________________________________________\n",
      "Layer (type)                    Output Shape         Param #     Connected to                     \n",
      "==================================================================================================\n",
      "input_1 (InputLayer)            (None, 128)          0                                            \n",
      "__________________________________________________________________________________________________\n",
      "input_2 (InputLayer)            (None, 8)            0                                            \n",
      "__________________________________________________________________________________________________\n",
      "input_3 (InputLayer)            (None, 100)          0                                            \n",
      "__________________________________________________________________________________________________\n",
      "concatenate_1 (Concatenate)     (None, 236)          0           input_1[0][0]                    \n",
      "                                                                 input_2[0][0]                    \n",
      "                                                                 input_3[0][0]                    \n",
      "__________________________________________________________________________________________________\n",
      "sequential_1 (Sequential)       (None, 32, 32, 3)    806037609   concatenate_1[0][0]              \n",
      "==================================================================================================\n",
      "Total params: 806,037,609\n",
      "Trainable params: 806,037,609\n",
      "Non-trainable params: 0\n",
      "__________________________________________________________________________________________________\n"
     ]
    }
   ],
   "source": [
    "generator.summary()"
   ]
  },
  {
   "cell_type": "code",
   "execution_count": null,
   "metadata": {
    "colab": {},
    "colab_type": "code",
    "id": "ObTb7HIf5CqA"
   },
   "outputs": [
    {
     "name": "stdout",
     "output_type": "stream",
     "text": [
      "__________________________________________________________________________________________________\n",
      "Layer (type)                    Output Shape         Param #     Connected to                     \n",
      "==================================================================================================\n",
      "input_6 (InputLayer)            (None, 32, 32, 3)    0                                            \n",
      "__________________________________________________________________________________________________\n",
      "input_4 (InputLayer)            (None, 128)          0                                            \n",
      "__________________________________________________________________________________________________\n",
      "input_5 (InputLayer)            (None, 8)            0                                            \n",
      "__________________________________________________________________________________________________\n",
      "flatten_3 (Flatten)             (None, 3072)         0           input_6[0][0]                    \n",
      "__________________________________________________________________________________________________\n",
      "concatenate_2 (Concatenate)     (None, 3208)         0           input_4[0][0]                    \n",
      "                                                                 input_5[0][0]                    \n",
      "                                                                 flatten_3[0][0]                  \n",
      "__________________________________________________________________________________________________\n",
      "sequential_2 (Sequential)       (None, 1)            9858922     concatenate_2[0][0]              \n",
      "==================================================================================================\n",
      "Total params: 9,858,922\n",
      "Trainable params: 9,858,922\n",
      "Non-trainable params: 0\n",
      "__________________________________________________________________________________________________\n"
     ]
    }
   ],
   "source": [
    "discriminator.summary()"
   ]
  },
  {
   "cell_type": "code",
   "execution_count": null,
   "metadata": {
    "colab": {},
    "colab_type": "code",
    "id": "YHTmYpPeImn5"
   },
   "outputs": [],
   "source": [
    "GLR = 0.02  # generator\n",
    "DLR = 0.001  # discriminator\n",
    "\n",
    "\n",
    "discriminator.compile(\n",
    "    optimizer=keras.optimizers.Adam(lr=DLR),\n",
    "    loss=keras.losses.binary_crossentropy,\n",
    "    metrics=['accuracy']\n",
    ")\n",
    "\n",
    "\n",
    "# condition\n",
    "c1 = keras.layers.Input(shape=(enc_len,))\n",
    "c2 = keras.layers.Input(shape=(age_len,))\n",
    "\n",
    "# noise\n",
    "x = keras.layers.Input(shape=(noise_len,))\n",
    "\n",
    "# freeze discriminator\n",
    "discriminator.trainable = False\n",
    "\n",
    "# output\n",
    "z = generator([c1, c2, x])\n",
    "out = discriminator([c1, c2, z])\n",
    "\n",
    "# GAN\n",
    "gan = keras.models.Model(inputs=[c1, c2, x], outputs=out)\n",
    "\n",
    "gan.compile(\n",
    "    optimizer=keras.optimizers.Adam(lr=GLR),\n",
    "    loss=keras.losses.kullback_leibler_divergence,\n",
    "    metrics=['accuracy'])"
   ]
  },
  {
   "cell_type": "code",
   "execution_count": null,
   "metadata": {
    "colab": {},
    "colab_type": "code",
    "id": "8mmrborLIvNK"
   },
   "outputs": [
    {
     "name": "stdout",
     "output_type": "stream",
     "text": [
      "[{'age': array([[0, 1, 0, 0, 0, 0, 0, 0]]), 'enc': array([[-8.10293555e-02,  1.10751942e-01, -3.06042582e-02,\n",
      "        -5.77971339e-02, -6.39751256e-02, -1.92233175e-02,\n",
      "         1.10295787e-02, -1.55738071e-02,  2.54027486e-01,\n",
      "        -9.45936516e-02,  2.39883587e-01, -1.18419304e-02,\n",
      "        -2.28591561e-01,  2.73593739e-02, -7.01883733e-02,\n",
      "         9.11551416e-02, -1.96167633e-01, -4.56979126e-02,\n",
      "        -1.40132308e-01, -4.17662226e-02,  5.19748628e-02,\n",
      "         3.33796889e-02,  2.58172061e-02,  8.74650106e-02,\n",
      "        -1.27799332e-01, -3.01708102e-01, -1.32816941e-01,\n",
      "        -1.03593007e-01,  6.60070553e-02, -1.47234946e-01,\n",
      "         5.93926683e-02,  1.31450295e-01, -5.63275963e-02,\n",
      "        -4.96997610e-02,  1.48217380e-02, -6.10861927e-04,\n",
      "        -3.80603448e-02, -3.28322202e-02,  2.82836974e-01,\n",
      "         2.69050039e-02, -1.83566928e-01, -2.22879350e-02,\n",
      "         4.28452641e-02,  3.46022815e-01,  2.65864223e-01,\n",
      "         5.32720760e-02, -4.13308591e-02, -8.77400339e-02,\n",
      "         1.16912179e-01, -2.34817833e-01,  8.15063566e-02,\n",
      "         1.98396683e-01,  1.24927931e-01,  1.10462233e-01,\n",
      "         8.73245671e-02, -1.33757412e-01,  7.04939961e-02,\n",
      "         1.05315685e-01, -1.78238437e-01, -5.79701774e-02,\n",
      "         3.01122777e-02, -6.77782446e-02,  2.52480768e-02,\n",
      "         2.42613927e-02,  1.27531081e-01,  6.07682541e-02,\n",
      "        -9.10669640e-02, -7.71152452e-02,  1.41304761e-01,\n",
      "        -1.99657798e-01, -2.73024589e-02,  8.30019414e-02,\n",
      "        -1.63031355e-01, -1.97971851e-01, -2.58076787e-01,\n",
      "         2.26352736e-02,  4.35165644e-01,  1.83837071e-01,\n",
      "        -1.16838321e-01,  3.97964194e-02, -3.85326669e-02,\n",
      "        -1.10354245e-01,  7.20479190e-02,  5.93922585e-02,\n",
      "        -1.96072489e-01, -1.28180355e-01, -6.51318803e-02,\n",
      "         5.58560565e-02,  1.60622671e-01, -2.45347619e-04,\n",
      "        -6.29917383e-02,  1.56398058e-01,  4.22764570e-02,\n",
      "        -5.75436503e-02,  7.67978430e-02,  2.28376985e-02,\n",
      "        -8.84462297e-02, -9.04448330e-03, -1.36347979e-01,\n",
      "        -9.17548686e-03,  3.86628062e-02, -8.88512060e-02,\n",
      "        -5.20259887e-02,  1.00151040e-01, -2.35870227e-01,\n",
      "         1.90818176e-01,  4.68984246e-02, -8.67052972e-02,\n",
      "        -1.10854059e-02,  3.99126112e-03, -1.27118453e-01,\n",
      "        -5.31011820e-03,  2.22744986e-01, -1.91278160e-01,\n",
      "         1.35081381e-01,  1.42711893e-01,  3.13882977e-02,\n",
      "         1.71192735e-01,  7.15867728e-02,  1.00474179e-01,\n",
      "        -4.24493626e-02, -7.70301372e-03, -1.16747558e-01,\n",
      "        -6.02054596e-02,  9.01913419e-02,  1.12520009e-02,\n",
      "         1.05098076e-01, -4.40406874e-02]], dtype=float32), 'img': array([[b'\\xa5\\xa6\\xa3\\xa8\\xa9\\xa3\\xaa\\xab\\xa7\\xad\\xad\\xa9\\xbb\\xb7\\xaf\\xb8\\xb4\\xa9\\xb5\\xae\\xa7\\xb9\\xb1\\xa7\\xbf\\xb6\\xa9\\xb9\\xb2\\xae\\xca\\xb9\\xb2\\xdb\\xc5\\xb5\\xdc\\xc8\\xb6\\xd4\\xc2\\xaf\\xc0\\xb4\\xa3\\xbb\\xae\\xa1\\xd1\\xc0\\xb0\\xc2\\xb3\\xa7\\xc2\\xb4\\xa8\\xd5\\xc1\\xac\\xcf\\xba\\xa5\\xc3\\xb1\\x9e\\xc4\\xb2\\x9c\\xc4\\xb1\\x9c\\xbe\\xac\\x9a\\xae\\x9f\\x93\\x99\\x93\\x8b\\x96\\x91\\x86\\x93\\x91\\x84\\x92\\x92\\x84\\x9b\\x98\\x87\\xed\\xe9\\xbc\\xa4\\xa5\\xa4\\xa6\\xa6\\xa3\\xa8\\xa9\\xa5\\xb3\\xb0\\xa8\\xc4\\xbb\\xb2\\xc4\\xbb\\xaf\\xbd\\xb0\\xab\\xcb\\xba\\xaf\\xcc\\xbc\\xae\\xcd\\xbc\\xb4\\xd6\\xc3\\xb7\\xe0\\xc8\\xb8\\xe0\\xcb\\xba\\xdd\\xc8\\xb7\\xd4\\xc3\\xb1\\xcd\\xbb\\xac\\xd6\\xc1\\xad\\xd3\\xbd\\xaf\\xd5\\xc0\\xb0\\xd7\\xc2\\xae\\xd4\\xbf\\xac\\xce\\xb9\\xa5\\xcb\\xb7\\x9f\\xc7\\xb4\\x9c\\xc3\\xb1\\x9b\\xb9\\xa7\\x97\\xa1\\x98\\x8c\\xa6\\x9b\\x8a\\x9a\\x94\\x87\\x93\\x92\\x86\\x9c\\x97\\x85\\xdf\\xdb\\xae\\xa4\\xa5\\xa4\\xa6\\xa6\\xa6\\xac\\xaa\\xa7\\xbb\\xb4\\xaa\\xce\\xc0\\xb4\\xcf\\xbf\\xb6\\xd1\\xc0\\xb8\\xd6\\xc3\\xb5\\xd7\\xc1\\xb4\\xdd\\xc7\\xb9\\xdf\\xc9\\xb9\\xe2\\xca\\xb8\\xe2\\xca\\xb9\\xe4\\xcc\\xbb\\xe2\\xcd\\xb8\\xde\\xc9\\xb7\\xde\\xc7\\xb1\\xdb\\xc3\\xaf\\xdd\\xc3\\xb1\\xdb\\xc2\\xb1\\xd8\\xc0\\xae\\xd2\\xbc\\xa8\\xce\\xba\\xa4\\xc8\\xb4\\x9e\\xc4\\xb2\\x9b\\xbc\\xa9\\x95\\xb1\\xa3\\x90\\xb4\\xa6\\x90\\xa6\\x9d\\x8c\\x96\\x96\\x8a\\x9b\\x96\\x86\\xe2\\xdf\\xb1\\xa9\\xa8\\xa3\\xb3\\xb0\\xac\\xbf\\xb6\\xb0\\xca\\xbc\\xb1\\xd3\\xc2\\xb5\\xd6\\xc4\\xb8\\xd9\\xc7\\xba\\xda\\xc8\\xba\\xda\\xc7\\xb9\\xdd\\xc9\\xbc\\xdf\\xca\\xbb\\xe1\\xcc\\xbd\\xe5\\xcb\\xbd\\xe6\\xcc\\xbf\\xe4\\xcf\\xbd\\xe1\\xcc\\xbb\\xdf\\xca\\xb6\\xdc\\xc6\\xb3\\xde\\xc4\\xb3\\xdc\\xc2\\xb1\\xda\\xc0\\xaf\\xd4\\xbb\\xaa\\xce\\xb9\\xa6\\xcb\\xb7\\xa2\\xc5\\xb3\\x9b\\xbe\\xad\\x97\\xb9\\xa8\\x94\\xbc\\xab\\x95\\xaf\\xa4\\x8d\\x96\\x99\\x88\\x9d\\x9a\\x87\\xed\\xea\\xbb\\xc2\\xb6\\xab\\xd1\\xc0\\xb2\\xd6\\xc3\\xb5\\xd6\\xc3\\xb6\\xd4\\xc2\\xb4\\xd4\\xc3\\xb5\\xd6\\xc3\\xb6\\xd2\\xc4\\xb7\\xcd\\xbf\\xb7\\xd3\\xc2\\xbc\\xd9\\xc6\\xbd\\xdd\\xc8\\xbc\\xe2\\xcb\\xbe\\xe5\\xcd\\xc1\\xe4\\xcf\\xc1\\xe4\\xd0\\xc1\\xe4\\xcf\\xbe\\xe0\\xca\\xb9\\xe0\\xc6\\xb3\\xdf\\xc6\\xb3\\xdc\\xc2\\xb1\\xd5\\xbc\\xab\\xce\\xb9\\xa7\\xcc\\xb8\\xa4\\xc8\\xb6\\x9e\\xc3\\xb2\\x9b\\xbd\\xad\\x96\\xbe\\xac\\x95\\xb7\\xa9\\x8f\\x97\\x97\\x82\\x9f\\x9c\\x87\\xec\\xe9\\xb9\\xd0\\xbf\\xb2\\xd6\\xc4\\xb6\\xd6\\xc4\\xb6\\xd5\\xc3\\xb5\\xd0\\xc1\\xb5\\xc6\\xbb\\xb3\\xb9\\xb4\\xac\\xb0\\xaf\\xa9\\xb5\\xb4\\xb1\\xbd\\xb7\\xb5\\xc5\\xbc\\xb8\\xcc\\xc0\\xb8\\xd4\\xc5\\xbc\\xd9\\xc9\\xc0\\xe0\\xcd\\xc2\\xe4\\xd0\\xc6\\xe6\\xd0\\xc4\\xe5\\xcf\\xc2\\xe4\\xca\\xb9\\xe1\\xc7\\xb6\\xdd\\xc3\\xb2\\xd6\\xbe\\xad\\xd0\\xbb\\xaa\\xcd\\xb9\\xa7\\xc9\\xb6\\xa2\\xc4\\xb3\\x9f\\xbd\\xaf\\x9a\\xbc\\xad\\x98\\xbd\\xae\\x93\\x9c\\x97\\x81\\xa3\\x9c\\x86\\xef\\xec\\xbb\\xd4\\xc1\\xb3\\xd8\\xc4\\xb6\\xd6\\xc3\\xb6\\xd2\\xc1\\xb5\\xc2\\xb8\\xaf\\xaf\\xa9\\xa6\\xa8\\xa4\\xa4\\xa5\\xa4\\xa5\\xa7\\xaa\\xa9\\xa9\\xab\\xaa\\xab\\xab\\xa7\\xae\\xac\\xa7\\xaf\\xad\\xa6\\xb8\\xb2\\xae\\xc9\\xbc\\xb8\\xdb\\xc9\\xc3\\xe3\\xcd\\xc5\\xe6\\xce\\xc3\\xe3\\xcb\\xbd\\xe1\\xcb\\xb9\\xde\\xc7\\xb4\\xd4\\xbd\\xaa\\xcd\\xb8\\xa8\\xca\\xb6\\xa7\\xc5\\xb3\\xa3\\xbd\\xb0\\x9e\\xb3\\xaa\\x96\\xb5\\xaa\\x96\\xc5\\xb3\\x98\\xa5\\x9b\\x85\\xb0\\xa6\\x8e\\xfb\\xf8\\xc1\\xd4\\xc4\\xb4\\xd8\\xc7\\xb7\\xd5\\xc5\\xb5\\xcc\\xbe\\xb6\\xbe\\xb3\\xb3\\xc0\\xb6\\xb5\\xc6\\xbb\\xb8\\xc3\\xbc\\xb8\\xbe\\xbb\\xb5\\xb9\\xb5\\xb0\\xb1\\xb0\\xa8\\xb0\\xaf\\xa7\\xad\\xab\\xa5\\xaf\\xa7\\xa7\\xb0\\xa9\\xac\\xc5\\xb6\\xb7\\xda\\xc7\\xc2\\xe4\\xcd\\xc6\\xe0\\xca\\xbc\\xdf\\xca\\xb8\\xda\\xc4\\xb4\\xcc\\xb9\\xa8\\xc1\\xb2\\xa3\\xb2\\xa7\\x9b\\xa8\\xa1\\x96\\xa2\\x9f\\x91\\xa2\\xa0\\x91\\x9f\\x9c\\x8c\\xb2\\xa8\\x91\\xa9\\x9e\\x85\\xc4\\xbb\\x9b\\xfe\\xfa\\xc4\\xc4\\xbc\\xaf\\xc7\\xbe\\xb0\\xc7\\xbe\\xb1\\xc4\\xbc\\xb9\\xc6\\xbe\\xc1\\xd3\\xc6\\xc5\\xd3\\xc6\\xc1\\xc8\\xc1\\xbd\\xca\\xc0\\xbe\\xc9\\xc0\\xbb\\xc6\\xbd\\xb6\\xc3\\xba\\xb3\\xbd\\xb6\\xad\\xbc\\xb4\\xb1\\xb5\\xaf\\xaf\\xba\\xaf\\xac\\xd0\\xbf\\xbb\\xe1\\xcb\\xc1\\xdd\\xc7\\xba\\xdd\\xc8\\xb6\\xd2\\xc0\\xb1\\xb7\\xab\\x9d\\xa5\\xa0\\x94\\x9d\\x9a\\x92\\x9d\\x98\\x93\\x98\\x96\\x8d\\x94\\x94\\x88\\x93\\x93\\x87\\x9b\\x98\\x83\\xa6\\x9f\\x88\\xe0\\xdb\\xb1\\xfe\\xfd\\xca\\xd1\\xc4\\xb3\\xd3\\xc5\\xb5\\xd2\\xc4\\xb6\\xcc\\xc0\\xba\\xc2\\xb8\\xb8\\xc0\\xb7\\xbb\\xbb\\xb6\\xb6\\xda\\xd8\\xd1\\xce\\xc3\\xbf\\xcf\\xc3\\xbd\\xc9\\xbe\\xb6\\xc7\\xbc\\xb3\\xc8\\xbd\\xb5\\xc9\\xbf\\xb4\\xc5\\xb9\\xb0\\xbd\\xb3\\xad\\xcd\\xbd\\xb8\\xe0\\xc9\\xbe\\xe2\\xcc\\xbe\\xda\\xc5\\xb3\\xc8\\xb7\\xa8\\xad\\xa4\\x97\\xa8\\xa0\\x96\\xb1\\xa4\\x98\\xb6\\xa6\\x9a\\xb7\\xa7\\x9c\\xb4\\xa5\\x99\\xad\\xa1\\x92\\xa8\\x9d\\x89\\xb0\\xa6\\x8d\\xf9\\xf7\\xc9\\xfe\\xfe\\xcc\\xd8\\xc8\\xb6\\xdd\\xcc\\xb9\\xdf\\xcd\\xbb\\xdf\\xcc\\xbf\\xda\\xc6\\xbc\\xd0\\xbc\\xb5\\xc0\\xb6\\xb6\\xbf\\xba\\xb8\\xb8\\xb6\\xb5\\xba\\xb8\\xb7\\xad\\xac\\xab\\xb9\\xb9\\xb4\\xbb\\xb1\\xae\\xc6\\xb7\\xb0\\xd2\\xc2\\xb5\\xd2\\xc3\\xb6\\xc4\\xb8\\xb0\\xd5\\xc5\\xbb\\xde\\xca\\xbd\\xd1\\xbf\\xad\\xbb\\xad\\x9a\\xbb\\xa9\\x9c\\xbc\\xac\\x9f\\xba\\xab\\x9f\\xbb\\xab\\x9e\\xbd\\xaa\\x9c\\xbd\\xa9\\x97\\xbd\\xa9\\x94\\xbd\\xaa\\x90\\xc6\\xbc\\x9e\\xfe\\xfc\\xce\\xfe\\xfe\\xcb\\xdb\\xc9\\xb9\\xdf\\xce\\xbc\\xe3\\xd1\\xc0\\xe3\\xcf\\xc2\\xde\\xc9\\xbf\\xd4\\xc0\\xb8\\xc1\\xb8\\xb8\\xc3\\xbd\\xbd\\xc2\\xc1\\xbf\\xaf\\xaf\\xad\\xb5\\xb4\\xb4\\xd6\\xd8\\xd3\\xc9\\xbb\\xb9\\xc8\\xb5\\xb0\\xd0\\xc0\\xb3\\xd8\\xc8\\xbb\\xcf\\xc0\\xb5\\xba\\xb1\\xaa\\xc9\\xbb\\xb1\\xc0\\xb2\\xa4\\xb1\\xa4\\x95\\xae\\xa5\\x98\\xad\\xa8\\x9f\\xad\\xa9\\xa4\\xac\\xa3\\x9d\\xb5\\xa7\\x9c\\xbb\\xa8\\x95\\xc5\\xae\\x94\\xd1\\xbd\\xa3\\xd1\\xcd\\xb9\\xf4\\xf4\\xc7\\xfe\\xfd\\xc8\\xda\\xcb\\xb9\\xe0\\xcf\\xbf\\xe3\\xd2\\xc2\\xe3\\xd1\\xc1\\xe2\\xcf\\xbe\\xdd\\xca\\xbe\\xc9\\xc0\\xb6\\xd2\\xc5\\xbc\\xcf\\xc4\\xbc\\xcc\\xc1\\xbd\\xce\\xc5\\xc0\\xd0\\xc6\\xbd\\xca\\xb8\\xb2\\xcf\\xbd\\xb4\\xd2\\xc0\\xb5\\xd0\\xc2\\xb9\\xbb\\xba\\xb7\\xc8\\xba\\xb2\\xdf\\xc8\\xbb\\xd3\\xbd\\xae\\xb1\\xa6\\x95\\xb4\\xaa\\xa1\\xb5\\xb0\\xa7\\xad\\xad\\xa4\\xa5\\x9f\\x97\\xb3\\xaa\\xa6\\xb0\\xa0\\x91\\xc3\\xae\\x96\\xd8\\xc9\\xb5\\xdd\\xdf\\xd3\\xda\\xd9\\xbb\\xe5\\xe2\\xb5\\xda\\xcb\\xb9\\xe0\\xcf\\xbf\\xe4\\xd3\\xc5\\xe4\\xd2\\xc5\\xe3\\xd2\\xc4\\xe3\\xcf\\xc1\\xcf\\xc1\\xb7\\xd9\\xc9\\xbb\\xdc\\xca\\xbb\\xdf\\xcd\\xc2\\xe0\\xcf\\xc3\\xda\\xc7\\xc0\\xd6\\xc3\\xba\\xd4\\xc2\\xb5\\xd9\\xc3\\xb5\\xc7\\xbd\\xb7\\xb7\\xb5\\xb4\\xd5\\xbe\\xb9\\xe5\\xc9\\xbd\\xd9\\xbe\\xb0\\xad\\xa5\\x9b\\xb5\\xa9\\xa1\\xc4\\xb8\\xad\\xbf\\xb5\\xa7\\xb9\\xab\\xa2\\xbc\\xac\\xa1\\xb4\\xa4\\x95\\xbf\\xaf\\x99\\xf2\\xef\\xe9\\xfe\\xfe\\xfc\\xfa\\xf8\\xdf\\xd5\\xd3\\xc7\\xdb\\xc9\\xb8\\xdf\\xce\\xbf\\xe3\\xd1\\xc5\\xe5\\xd3\\xc7\\xe5\\xd3\\xc7\\xe6\\xd5\\xc6\\xe3\\xd3\\xc2\\xd7\\xc6\\xba\\xd3\\xc3\\xb9\\xdc\\xcc\\xc2\\xe2\\xd2\\xc6\\xde\\xcd\\xc0\\xdf\\xc9\\xbd\\xe2\\xc7\\xbd\\xdd\\xc7\\xb9\\xc7\\xb8\\xb4\\xc6\\xb9\\xb7\\xdf\\xc6\\xc0\\xe3\\xc7\\xbc\\xda\\xbe\\xaf\\xb6\\xa9\\x9e\\xb6\\xa8\\xa3\\xc6\\xb5\\xa9\\xd0\\xbb\\xac\\xcc\\xb8\\xa5\\xc4\\xb0\\x9e\\xc5\\xb1\\x9c\\xcd\\xba\\x9e\\xf9\\xf6\\xee\\xfe\\xfe\\xf5\\xf8\\xf5\\xd2\\xfb\\xfa\\xf6\\xd9\\xc7\\xb9\\xde\\xcc\\xbd\\xe2\\xd0\\xc4\\xe5\\xd2\\xc6\\xe8\\xd5\\xc9\\xea\\xd8\\xca\\xe9\\xd7\\xc5\\xeb\\xd8\\xc8\\xe9\\xd4\\xc9\\xdf\\xc9\\xc0\\xd9\\xc7\\xbb\\xd4\\xc3\\xb7\\xd3\\xc4\\xb9\\xd4\\xc1\\xb7\\xd0\\xbd\\xb6\\xd4\\xc0\\xbc\\xdd\\xc4\\xbe\\xe1\\xc5\\xc0\\xe0\\xc4\\xb8\\xd8\\xbd\\xae\\xc2\\xae\\x9e\\xb5\\xa5\\x9f\\xc5\\xb3\\xa8\\xce\\xb8\\xa9\\xd0\\xb8\\xa8\\xcd\\xb5\\xa2\\xcb\\xb3\\x9c\\xd0\\xbb\\xa0\\xf7\\xf2\\xd2\\xfe\\xfb\\xd2\\xf3\\xf1\\xd1\\xfe\\xfe\\xfe\\xd8\\xc6\\xb7\\xdd\\xc9\\xba\\xe4\\xcd\\xc1\\xe5\\xcf\\xc4\\xea\\xd4\\xc8\\xed\\xd8\\xca\\xed\\xda\\xca\\xec\\xda\\xc9\\xec\\xd6\\xc8\\xe9\\xd2\\xc5\\xea\\xd1\\xc4\\xe9\\xd0\\xc3\\xea\\xcf\\xc4\\xe8\\xcd\\xc2\\xe3\\xc8\\xbe\\xe2\\xc7\\xbe\\xdf\\xc4\\xbb\\xe1\\xc6\\xbc\\xde\\xc2\\xb7\\xd9\\xbe\\xaf\\xc8\\xb1\\xa1\\xbd\\xaa\\x9a\\xbf\\xab\\x9e\\xc8\\xb4\\xa8\\xcd\\xb8\\xa8\\xcd\\xb7\\xa4\\xcc\\xb5\\x9f\\xd4\\xbd\\x9c\\xe4\\xcf\\x98\\xd9\\xca\\x99\\xf2\\xef\\xe2\\xfc\\xfe\\xf9\\xd8\\xc6\\xb8\\xdb\\xc7\\xbc\\xe3\\xcc\\xc2\\xe7\\xd1\\xc6\\xec\\xd3\\xc8\\xef\\xd4\\xc9\\xed\\xd4\\xc9\\xec\\xd4\\xc9\\xeb\\xcf\\xc4\\xec\\xd0\\xc5\\xed\\xd0\\xc5\\xed\\xd0\\xc5\\xee\\xd3\\xc8\\xe8\\xcd\\xc2\\xde\\xc2\\xbb\\xdb\\xc0\\xb8\\xde\\xc3\\xba\\xdf\\xc4\\xba\\xde\\xc2\\xb6\\xd7\\xbc\\xad\\xcb\\xb4\\xa5\\xc1\\xac\\x9c\\xd0\\xb5\\xa8\\xce\\xb3\\xa7\\xc6\\xae\\xa2\\xc4\\xad\\x9f\\xc3\\xae\\x9c\\xc9\\xb4\\x99\\xda\\xc4\\x9d\\xdc\\xc6\\x9c\\xe6\\xd6\\xa6\\xeb\\xde\\xb0\\xd8\\xc7\\xb8\\xd8\\xc6\\xba\\xdf\\xc9\\xc1\\xe6\\xcf\\xc7\\xeb\\xd1\\xc8\\xed\\xd2\\xc7\\xed\\xd1\\xc8\\xed\\xd0\\xc8\\xe8\\xcb\\xc1\\xee\\xd1\\xc7\\xef\\xd2\\xc8\\xec\\xd1\\xc6\\xec\\xd0\\xc6\\xde\\xc2\\xba\\xd3\\xbc\\xb9\\xd7\\xc0\\xbc\\xdf\\xc4\\xba\\xe2\\xc8\\xba\\xe1\\xc5\\xb9\\xdc\\xc0\\xb4\\xd2\\xb9\\xae\\xcb\\xb6\\xa4\\xd1\\xb7\\xaa\\xd7\\xb9\\xad\\xd4\\xb6\\xa9\\xd0\\xb3\\xa5\\xcd\\xb2\\xa0\\xd2\\xb9\\x9f\\xe8\\xcf\\xa4\\xe5\\xcb\\x9b\\xe2\\xcb\\x94\\xe1\\xcb\\x91\\xd9\\xc7\\xb8\\xd8\\xc6\\xba\\xdc\\xc6\\xbe\\xe2\\xcb\\xc3\\xe7\\xcd\\xc3\\xeb\\xd0\\xc5\\xed\\xd1\\xc8\\xee\\xd1\\xc9\\xed\\xd3\\xc8\\xf0\\xd6\\xca\\xf0\\xd6\\xca\\xec\\xce\\xc4\\xe6\\xc6\\xbb\\xd4\\xbc\\xb6\\xe0\\xc4\\xc2\\xe1\\xc6\\xc2\\xe5\\xca\\xbf\\xe7\\xcc\\xbf\\xec\\xd0\\xc4\\xe6\\xca\\xbe\\xda\\xbe\\xb2\\xd0\\xb8\\xa6\\xd1\\xb7\\xab\\xd8\\xbb\\xae\\xd6\\xb9\\xa8\\xd0\\xb3\\xa4\\xcc\\xb0\\x9f\\xd7\\xbe\\x9c\\xe3\\xcb\\x93\\xe0\\xc5\\x8c\\xdf\\xc4\\x89\\xde\\xc4\\x88\\xdb\\xc9\\xbb\\xdb\\xc9\\xbb\\xdb\\xc8\\xbc\\xe0\\xc9\\xc0\\xe5\\xcb\\xbf\\xe9\\xce\\xc3\\xec\\xd0\\xc7\\xee\\xd1\\xc9\\xee\\xd1\\xc7\\xef\\xd3\\xc8\\xed\\xcf\\xc4\\xe8\\xca\\xbf\\xe6\\xc7\\xbe\\xd8\\xbc\\xb6\\xdd\\xc0\\xb8\\xe2\\xc6\\xba\\xe2\\xc6\\xb8\\xdf\\xc4\\xb5\\xe7\\xcd\\xbe\\xe5\\xcc\\xbc\\xd9\\xbf\\xae\\xcc\\xb3\\xa0\\xd1\\xb6\\xaa\\xd9\\xbc\\xb0\\xd5\\xb8\\xaa\\xd1\\xb5\\xa4\\xce\\xb4\\x9c\\xdb\\xc1\\x89\\xde\\xc3~\\xde\\xc2\\x80\\xde\\xc1\\x81\\xdd\\xc2}\\xdd\\xcb\\xbc\\xde\\xcc\\xbe\\xdc\\xca\\xbb\\xdf\\xc9\\xbc\\xe3\\xcb\\xbe\\xe7\\xcc\\xc1\\xea\\xce\\xc6\\xed\\xd0\\xc9\\xed\\xd1\\xc9\\xed\\xd1\\xc7\\xeb\\xcd\\xc3\\xeb\\xcd\\xc3\\xea\\xc9\\xc1\\xe0\\xc1\\xbb\\xd0\\xb5\\xb0\\xcf\\xb4\\xab\\xd2\\xb9\\xab\\xd3\\xbb\\xac\\xdb\\xc3\\xaf\\xd7\\xbf\\xac\\xc6\\xb1\\x9f\\xc3\\xae\\x9b\\xd4\\xb9\\xac\\xd9\\xbb\\xae\\xd4\\xb8\\xa9\\xce\\xb3\\xa4\\xd1\\xb7\\xa1\\xe2\\xce\\xa4\\xe4\\xcd\\x92\\xe8\\xce\\x86\\xea\\xcd\\x7f\\xe8\\xcc|\\xdd\\xca\\xbd\\xe0\\xcd\\xbe\\xdf\\xcc\\xbd\\xdd\\xca\\xbc\\xdf\\xcb\\xbd\\xe5\\xcd\\xc1\\xe9\\xce\\xc5\\xeb\\xd0\\xca\\xed\\xd0\\xcc\\xee\\xd1\\xc8\\xec\\xce\\xc5\\xec\\xce\\xc6\\xe8\\xca\\xc2\\xe3\\xc5\\xbd\\xde\\xbf\\xba\\xd9\\xbb\\xb1\\xd6\\xba\\xae\\xcd\\xb6\\xa7\\xc9\\xb7\\xa4\\xc2\\xb1\\x9e\\xbd\\xa9\\x98\\xc7\\xae\\x9e\\xd5\\xba\\xa9\\xd9\\xbb\\xab\\xd2\\xb7\\xa6\\xcb\\xb2\\x9f\\xd7\\xc2\\xac\\xd4\\xca\\xbd\\xcd\\xc1\\xb3\\xcb\\xbf\\xaa\\xcf\\xc1\\xa2\\xd7\\xc4\\x99\\xdd\\xca\\xbe\\xe1\\xce\\xbf\\xe0\\xcd\\xbf\\xdd\\xca\\xbd\\xdd\\xcb\\xc0\\xe2\\xcd\\xc1\\xe9\\xcf\\xc4\\xe8\\xcc\\xc4\\xeb\\xcf\\xc8\\xed\\xd0\\xc7\\xe9\\xcb\\xc4\\xe8\\xca\\xc3\\xe5\\xc6\\xc1\\xe2\\xc4\\xbc\\xdf\\xc1\\xb7\\xde\\xc0\\xb4\\xe0\\xc2\\xb8\\xd8\\xbe\\xb1\\xce\\xb5\\xa8\\xc3\\xad\\x9e\\xc3\\xad\\x9d\\xcb\\xaf\\xa0\\xd3\\xb7\\xa4\\xd8\\xbb\\xa7\\xd1\\xb6\\xa3\\xcb\\xb5\\x9d\\xd5\\xc6\\xb1\\xd2\\xc7\\xba\\xd2\\xc5\\xb7\\xd3\\xc4\\xb4\\xd1\\xc2\\xb0\\xcd\\xc1\\xaf\\xda\\xc8\\xbc\\xdf\\xcc\\xbe\\xe1\\xce\\xc0\\xdf\\xcc\\xc1\\xde\\xcb\\xc3\\xe0\\xcb\\xc0\\xe7\\xcd\\xc1\\xe7\\xcc\\xc1\\xe8\\xcc\\xc3\\xe8\\xcb\\xc3\\xe6\\xca\\xc3\\xe3\\xc7\\xc1\\xe0\\xc2\\xbc\\xe0\\xc2\\xb8\\xe1\\xc3\\xb8\\xe2\\xc4\\xb9\\xe1\\xc2\\xb6\\xd8\\xbc\\xaf\\xd5\\xb8\\xac\\xc6\\xaf\\xa0\\xc3\\xae\\x9d\\xc8\\xaf\\x9f\\xcf\\xb4\\xa3\\xd5\\xba\\xa4\\xcd\\xb3\\x9a\\xd1\\xbc\\xa0\\xd8\\xce\\xbe\\xd6\\xca\\xbc\\xdb\\xcc\\xba\\xdc\\xcb\\xb6\\xda\\xc9\\xb4\\xd5\\xc6\\xb2\\xd6\\xc5\\xb6\\xde\\xcb\\xbc\\xe1\\xce\\xbf\\xdf\\xcc\\xbf\\xde\\xcb\\xc1\\xdd\\xc9\\xbf\\xe2\\xcb\\xbf\\xe4\\xca\\xbf\\xe4\\xc7\\xbd\\xe3\\xc9\\xbe\\xdf\\xc9\\xbe\\xe0\\xc7\\xbe\\xe2\\xc5\\xba\\xe3\\xc5\\xb8\\xe4\\xc4\\xba\\xe2\\xc3\\xb9\\xde\\xbf\\xb0\\xd4\\xb7\\xa8\\xd5\\xb8\\xa9\\xc9\\xb1\\xa0\\xc5\\xaf\\x9f\\xc3\\xad\\x9d\\xc9\\xb1\\xa0\\xce\\xb6\\xa3\\xcd\\xb3\\x9a\\xd7\\xc6\\xa9\\xdc\\xd0\\xc2\\xdb\\xcc\\xbe\\xde\\xce\\xba\\xe1\\xce\\xb7\\xe1\\xcd\\xb6\\xe2\\xcd\\xb4\\xcf\\xbf\\xb4\\xd9\\xc5\\xb8\\xde\\xcb\\xbd\\xdf\\xcc\\xbe\\xdd\\xc9\\xbe\\xdc\\xc8\\xbf\\xdd\\xc8\\xbc\\xe1\\xc7\\xbb\\xe2\\xc6\\xbb\\xdc\\xc4\\xb8\\xd6\\xc2\\xb4\\xd7\\xbe\\xb2\\xda\\xbf\\xb0\\xdb\\xbc\\xae\\xdb\\xbb\\xad\\xd9\\xb9\\xab\\xd9\\xb5\\xa6\\xd7\\xb2\\xa4\\xd6\\xb2\\xa6\\xcb\\xac\\x9f\\xc8\\xad\\x9f\\xc2\\xad\\x9b\\xc5\\xb0\\x9b\\xc7\\xb4\\x9f\\xcf\\xba\\x9c\\xde\\xd1\\xba\\xe2\\xd5\\xc3\\xe3\\xd3\\xc0\\xe1\\xd0\\xba\\xe0\\xcd\\xb4\\xe2\\xce\\xb5\\xe2\\xcb\\xb0\\xc1\\xb1\\xad\\xcf\\xbd\\xb4\\xd8\\xc5\\xb9\\xda\\xc8\\xbb\\xdb\\xc8\\xbd\\xdb\\xc7\\xbd\\xda\\xc6\\xbb\\xdf\\xc7\\xba\\xde\\xc5\\xb9\\xd7\\xc1\\xb1\\xd2\\xbb\\xab\\xcc\\xb1\\xa6\\xc8\\xac\\xa5\\xcc\\xac\\xa7\\xca\\xaa\\xa3\\xc6\\xa6\\x9e\\xc3\\xa2\\x9c\\xc3\\xa1\\x9d\\xbf\\xa0\\x97\\xb9\\x9e\\x94\\xb8\\x9e\\x94\\xb9\\xa4\\x94\\xc2\\xae\\x98\\xc5\\xb1\\x98\\xd6\\xc4\\xa5\\xe3\\xd6\\xc2\\xe3\\xd7\\xbf\\xe4\\xce\\xb7\\xe1\\xce\\xb6\\xe4\\xcd\\xb3\\xe0\\xc9\\xae\\xe0\\xc7\\xac\\xb0\\xaa\\xa4\\xbd\\xb2\\xaf\\xcb\\xbb\\xb4\\xd3\\xc1\\xb8\\xd8\\xc4\\xba\\xda\\xc6\\xbb\\xd8\\xc4\\xb7\\xdc\\xc5\\xb4\\xdb\\xc5\\xb0\\xdb\\xc6\\xb1\\xde\\xc7\\xb3\\xdf\\xc3\\xb5\\xdb\\xbc\\xb3\\xda\\xb6\\xaf\\xdb\\xb4\\xaf\\xdb\\xb4\\xaf\\xd6\\xad\\xa6\\xd4\\xaa\\xa7\\xd0\\xa6\\xa2\\xc3\\x9f\\x99\\xbc\\xa1\\x96\\xc0\\xaa\\x99\\xc3\\xaf\\x99\\xc7\\xb3\\x97\\xdc\\xcc\\xb2\\xdf\\xd3\\xbb\\xec\\xd1\\xb7\\xef\\xcd\\xb0\\xe8\\xd1\\xb3\\xe6\\xcd\\xb1\\xe0\\xc8\\xac\\xe3\\xc9\\xae\\x9b\\x9c\\xa7\\xa3\\xa0\\xa8\\xb5\\xab\\xaf\\xc8\\xb7\\xb2\\xd1\\xbe\\xb6\\xd4\\xc2\\xb6\\xd6\\xc3\\xb4\\xda\\xc4\\xb0\\xdb\\xc5\\xad\\xd9\\xc5\\xae\\xe1\\xc9\\xb6\\xe3\\xc7\\xb6\\xe1\\xc3\\xb4\\xdf\\xbf\\xb4\\xe0\\xbb\\xb1\\xdd\\xb6\\xaf\\xdd\\xb1\\xaa\\xd5\\xa9\\xa3\\xcd\\xa3\\x9e\\xc8\\xa4\\x9c\\xc5\\xa9\\x99\\xc9\\xaf\\x9c\\xc5\\xae\\x98\\xcf\\xbc\\x9e\\xdf\\xd0\\xb5\\xe7\\xd2\\xb8\\xf5\\xd5\\xb3\\xf5\\xd6\\xb1\\xf1\\xd6\\xb4\\xeb\\xd4\\xb3\\xe2\\xcb\\xad\\xe9\\xcd\\xaf\\x99\\x9b\\xaf\\x9a\\x9a\\xae\\x9d\\x9c\\xac\\xaa\\xa4\\xab\\xc2\\xb5\\xad\\xcf\\xbc\\xaf\\xd2\\xbe\\xad\\xd8\\xc2\\xad\\xda\\xc4\\xad\\xda\\xc6\\xae\\xde\\xc7\\xb4\\xdf\\xc3\\xb3\\xdd\\xc0\\xaf\\xdb\\xbe\\xb1\\xd4\\xbb\\xab\\xcd\\xb3\\xa7\\xcd\\xb0\\xa4\\xcb\\xae\\xa2\\xca\\xad\\xa2\\xc7\\xad\\xa1\\xc7\\xac\\x9b\\xc7\\xad\\x99\\xc6\\xb2\\x9b\\xe4\\xd8\\xb8\\xe8\\xdf\\xbd\\xf3\\xe3\\xba\\xfb\\xec\\xbd\\xfa\\xef\\xc1\\xfb\\xf2\\xc8\\xfb\\xf5\\xcc\\xf9\\xf4\\xc8\\xf9\\xf5\\xc9\\xb9\\xb8\\xc1\\x9e\\x9f\\xad\\x99\\x9a\\xa8\\x9c\\x9b\\xa5\\xa1\\xa0\\xa2\\xbb\\xaf\\xa7\\xcb\\xba\\xa6\\xd1\\xbd\\xa9\\xd9\\xc3\\xaf\\xd7\\xc3\\xab\\xdc\\xc5\\xaf\\xde\\xc3\\xae\\xdb\\xbe\\xad\\xd9\\xbb\\xaf\\xd5\\xba\\xad\\xd2\\xb7\\xaa\\xd1\\xb6\\xa8\\xd2\\xb6\\xa8\\xce\\xb2\\xa5\\xc9\\xad\\x9f\\xc8\\xac\\x9d\\xc7\\xaf\\x9e\\xe1\\xd5\\xc4\\xfd\\xfe\\xe8\\xfd\\xff\\xdb\\xfd\\xfe\\xd2\\xfd\\xff\\xd1\\xfe\\xff\\xd3\\xfe\\xff\\xd7\\xff\\xff\\xd9\\xfe\\xff\\xd5\\xfd\\xff\\xd6']],\n",
      "      dtype=object)}]\n",
      "[[0 1 0 0 0 0 0 0]] [[-8.10293555e-02  1.10751942e-01 -3.06042582e-02 -5.77971339e-02\n",
      "  -6.39751256e-02 -1.92233175e-02  1.10295787e-02 -1.55738071e-02\n",
      "   2.54027486e-01 -9.45936516e-02  2.39883587e-01 -1.18419304e-02\n",
      "  -2.28591561e-01  2.73593739e-02 -7.01883733e-02  9.11551416e-02\n",
      "  -1.96167633e-01 -4.56979126e-02 -1.40132308e-01 -4.17662226e-02\n",
      "   5.19748628e-02  3.33796889e-02  2.58172061e-02  8.74650106e-02\n",
      "  -1.27799332e-01 -3.01708102e-01 -1.32816941e-01 -1.03593007e-01\n",
      "   6.60070553e-02 -1.47234946e-01  5.93926683e-02  1.31450295e-01\n",
      "  -5.63275963e-02 -4.96997610e-02  1.48217380e-02 -6.10861927e-04\n",
      "  -3.80603448e-02 -3.28322202e-02  2.82836974e-01  2.69050039e-02\n",
      "  -1.83566928e-01 -2.22879350e-02  4.28452641e-02  3.46022815e-01\n",
      "   2.65864223e-01  5.32720760e-02 -4.13308591e-02 -8.77400339e-02\n",
      "   1.16912179e-01 -2.34817833e-01  8.15063566e-02  1.98396683e-01\n",
      "   1.24927931e-01  1.10462233e-01  8.73245671e-02 -1.33757412e-01\n",
      "   7.04939961e-02  1.05315685e-01 -1.78238437e-01 -5.79701774e-02\n",
      "   3.01122777e-02 -6.77782446e-02  2.52480768e-02  2.42613927e-02\n",
      "   1.27531081e-01  6.07682541e-02 -9.10669640e-02 -7.71152452e-02\n",
      "   1.41304761e-01 -1.99657798e-01 -2.73024589e-02  8.30019414e-02\n",
      "  -1.63031355e-01 -1.97971851e-01 -2.58076787e-01  2.26352736e-02\n",
      "   4.35165644e-01  1.83837071e-01 -1.16838321e-01  3.97964194e-02\n",
      "  -3.85326669e-02 -1.10354245e-01  7.20479190e-02  5.93922585e-02\n",
      "  -1.96072489e-01 -1.28180355e-01 -6.51318803e-02  5.58560565e-02\n",
      "   1.60622671e-01 -2.45347619e-04 -6.29917383e-02  1.56398058e-01\n",
      "   4.22764570e-02 -5.75436503e-02  7.67978430e-02  2.28376985e-02\n",
      "  -8.84462297e-02 -9.04448330e-03 -1.36347979e-01 -9.17548686e-03\n",
      "   3.86628062e-02 -8.88512060e-02 -5.20259887e-02  1.00151040e-01\n",
      "  -2.35870227e-01  1.90818176e-01  4.68984246e-02 -8.67052972e-02\n",
      "  -1.10854059e-02  3.99126112e-03 -1.27118453e-01 -5.31011820e-03\n",
      "   2.22744986e-01 -1.91278160e-01  1.35081381e-01  1.42711893e-01\n",
      "   3.13882977e-02  1.71192735e-01  7.15867728e-02  1.00474179e-01\n",
      "  -4.24493626e-02 -7.70301372e-03 -1.16747558e-01 -6.02054596e-02\n",
      "   9.01913419e-02  1.12520009e-02  1.05098076e-01 -4.40406874e-02]]\n",
      "[[[165 166 163 ... 253 255 214]]]\n"
     ]
    }
   ],
   "source": [
    "with tf.Session() as sess:\n",
    "  values = sess.run([variable_dataset])\n",
    "  print(values)\n",
    "  print(values[0]['age'], values[0]['enc'])\n",
    "  print(tf.io.decode_raw(values[0]['img'], tf.uint8).eval())"
   ]
  },
  {
   "cell_type": "code",
   "execution_count": null,
   "metadata": {
    "colab": {},
    "colab_type": "code",
    "id": "eZNLvw1uCEiz"
   },
   "outputs": [
    {
     "name": "stdout",
     "output_type": "stream",
     "text": [
      "[[0 0 0 1 0 0 0 0]]\n"
     ]
    }
   ],
   "source": [
    "with tf.Session() as sess:\n",
    "  for i in range(4000//16):\n",
    "    values = sess.run([variable_dataset])\n",
    "    print(values[0]['age'])\n",
    "    break"
   ]
  },
  {
   "cell_type": "code",
   "execution_count": null,
   "metadata": {
    "colab": {},
    "colab_type": "code",
    "id": "RK7vMyQWLp1V"
   },
   "outputs": [
    {
     "data": {
      "text/plain": [
       "<DatasetV1Adapter shapes: {age: (?, ?), enc: (?, ?), img: (?, ?)}, types: {age: tf.int64, enc: tf.float32, img: tf.string}>"
      ]
     },
     "execution_count": 11,
     "metadata": {},
     "output_type": "execute_result"
    }
   ],
   "source": [
    "parsed_train_dataset"
   ]
  },
  {
   "cell_type": "code",
   "execution_count": null,
   "metadata": {
    "colab": {
     "base_uri": "https://localhost:8080/",
     "height": 581
    },
    "colab_type": "code",
    "id": "iSszxe2oKY02",
    "outputId": "ee5ce939-c513-4c70-9983-ae17faca6d67"
   },
   "outputs": [
    {
     "name": "stdout",
     "output_type": "stream",
     "text": [
      "WARNING:tensorflow:From /usr/local/lib/python3.6/dist-packages/tensorflow/python/util/tf_should_use.py:193: initialize_all_variables (from tensorflow.python.ops.variables) is deprecated and will be removed after 2017-03-02.\n",
      "Instructions for updating:\n",
      "Use `tf.global_variables_initializer` instead.\n"
     ]
    }
   ],
   "source": [
    "from keras import backend as K\n",
    "\n",
    "\n",
    "EPOCHS = 10000\n",
    "STEPS = 1024 // BATCH_SIZE\n",
    "\n",
    "\n",
    "train_loss_g = []\n",
    "val_loss_g = []\n",
    "\n",
    "train_loss_d = []\n",
    "val_loss_d = []\n",
    "\n",
    "\n",
    "train_acc_g = []\n",
    "val_acc_g = []\n",
    "\n",
    "train_acc_d = []\n",
    "val_acc_d = []\n",
    "\n",
    "\n",
    "y_fake = tf.zeros((BATCH_SIZE,))\n",
    "y_true = tf.ones((BATCH_SIZE,))\n",
    "\n",
    "\n",
    "config = tf.ConfigProto()\n",
    "# config.gpu_options.allow_growth = True\n",
    "\n",
    "\n",
    "with tf.Session(config=config) as sess:\n",
    "\n",
    "  K.set_session(sess)\n",
    "  \n",
    "  tf.initialize_all_variables().run()\n",
    "\n",
    "  # epochs\n",
    "  for e in range(EPOCHS):\n",
    "\n",
    "    #batches\n",
    "    loss = []\n",
    "    acc = []\n",
    "\n",
    "    for p in range(STEPS):\n",
    "\n",
    "      values = sess.run([variable_dataset])\n",
    "      row = values[0]\n",
    "\n",
    "      sz = row['img'].shape[0]\n",
    "\n",
    "#       if sz != BATCH_SIZE:\n",
    "#         continue\n",
    "\n",
    "      # train discriminator\n",
    "\n",
    "      # fake data\n",
    "      c1 = row['enc']\n",
    "      c2 = tf.cast(row['age'], tf.float32).eval()\n",
    "      x = tf.random.normal((sz, noise_len,)).eval()\n",
    "      z_fake = generator.predict([c1, c2, x])\n",
    "\n",
    "      # real data\n",
    "      c1 = row['enc']\n",
    "      c2 = tf.cast(row['age'], tf.float32).eval()\n",
    "      z_real = tf.reshape(tf.io.decode_raw(row['img'], tf.uint8), (-1, width, height, depth)).eval()\n",
    "\n",
    "      # train\n",
    "      loss_1, acc_1 = discriminator.train_on_batch([c1, c2, z_fake], y_fake.eval())\n",
    "      loss_2, acc_2 = discriminator.train_on_batch([c1, c2, z_real], y_true.eval())\n",
    "\n",
    "      batch_loss = 0.5 * (float(tf.reduce_mean(loss_1).eval()) + float(tf.reduce_mean(loss_2).eval()))\n",
    "      batch_acc = 0.5 * (float(tf.reduce_mean(acc_1).eval()) + float(tf.reduce_mean(acc_2).eval()))\n",
    "\n",
    "      loss.append(batch_loss)\n",
    "      acc.append(batch_acc)\n",
    "\n",
    "    train_loss_d.append(np.mean(np.array(loss)))\n",
    "    train_acc_d.append(np.mean(np.array(acc)))\n",
    "\n",
    "    #batches\n",
    "    loss = []\n",
    "    acc = []\n",
    "\n",
    "    for p in range(STEPS):\n",
    "\n",
    "      values = sess.run([variable_dataset])\n",
    "      row = values[0]\n",
    "\n",
    "      sz = row['img'].shape[0]\n",
    "\n",
    "#       if sz != BATCH_SIZE:\n",
    "#         continue\n",
    "\n",
    "      # train generator\n",
    "\n",
    "      # concatenate face + age + noise\n",
    "      c1 = row['enc']\n",
    "      c2 = tf.cast(row['age'], tf.float32).eval()\n",
    "      x = tf.random.normal((sz, noise_len,)).eval()\n",
    "\n",
    "      # train\n",
    "      loss_1, acc_1 = gan.train_on_batch([c1, c2, x], y_true.eval())\n",
    "\n",
    "      batch_loss = float(tf.reduce_mean(loss_1).eval())\n",
    "      batch_acc = float(tf.reduce_mean(acc_1).eval())\n",
    "\n",
    "      loss.append(batch_loss)\n",
    "      acc.append(batch_acc)\n",
    "\n",
    "    train_loss_g.append(np.mean(np.array(loss)))\n",
    "    train_acc_g.append(np.mean(np.array(acc)))\n",
    "\n",
    "\n",
    "    print(\"Epoch: {}, Steps: {}, Discriminator Loss: {:.3f}, Discriminator Accuracy: %{:.2f}, GAN Loss: {:.3f}, GAN Accuracy: %{:.2f}\".format(\n",
    "          e,\n",
    "          STEPS,\n",
    "          train_loss_d[-1],\n",
    "          train_loss_g[-1],\n",
    "          train_acc_d[-1],\n",
    "          train_acc_g[-1]\n",
    "      ))\n",
    " \n",
    "    if e % 100 == 1:\n",
    "\n",
    "      pth = os.path.join(models_path, 'gan.h5')\n",
    "      gan.save(pth)\n",
    "\n",
    "      pth = os.path.join(models_path, 'generator-{}-{}-{}.h5'.format(e, train_loss_g[-1], train_acc_g[-1]))\n",
    "      generator.save(pth)\n",
    "\n",
    "      pth = os.path.join(models_path, 'discriminator.h5')\n",
    "      discriminator.save(pth)\n"
   ]
  },
  {
   "cell_type": "code",
   "execution_count": null,
   "metadata": {
    "colab": {},
    "colab_type": "code",
    "id": "p0Uxu-RaTBiI"
   },
   "outputs": [],
   "source": [
    "gan.summary()"
   ]
  },
  {
   "cell_type": "code",
   "execution_count": null,
   "metadata": {
    "colab": {},
    "colab_type": "code",
    "id": "bRFK2jHCpfpK"
   },
   "outputs": [],
   "source": [
    "generator.summary()"
   ]
  },
  {
   "cell_type": "code",
   "execution_count": null,
   "metadata": {
    "colab": {},
    "colab_type": "code",
    "id": "HKLt5f22piWS"
   },
   "outputs": [],
   "source": [
    "discriminator.summary()"
   ]
  },
  {
   "cell_type": "code",
   "execution_count": null,
   "metadata": {
    "colab": {},
    "colab_type": "code",
    "id": "-LzhKde-CaDu"
   },
   "outputs": [],
   "source": [
    "from matplotlib import pyplot as plt\n",
    "\n",
    "plt.plot(train_loss_g, label=\"Generator Loss\");\n",
    "plt.plot(train_loss_d, label=\"Discriminator Loss\");\n",
    "plt.legend();"
   ]
  },
  {
   "cell_type": "code",
   "execution_count": null,
   "metadata": {
    "colab": {},
    "colab_type": "code",
    "id": "-YhSUa3fROSg"
   },
   "outputs": [],
   "source": [
    "plt.plot(train_acc_g, label=\"Generator Accuracy\");\n",
    "plt.plot(train_acc_d, label=\"Discriminator Accuracy\");\n",
    "plt.legend()"
   ]
  },
  {
   "cell_type": "code",
   "execution_count": null,
   "metadata": {
    "colab": {},
    "colab_type": "code",
    "id": "E93kpBKFC84Z"
   },
   "outputs": [],
   "source": []
  }
 ],
 "metadata": {
  "accelerator": "GPU",
  "colab": {
   "collapsed_sections": [],
   "name": "Standalone Keras AGE-CGAN",
   "provenance": [],
   "version": "0.3.2"
  },
  "kernelspec": {
   "display_name": "Python 3",
   "language": "python",
   "name": "python3"
  },
  "language_info": {
   "codemirror_mode": {
    "name": "ipython",
    "version": 3
   },
   "file_extension": ".py",
   "mimetype": "text/x-python",
   "name": "python",
   "nbconvert_exporter": "python",
   "pygments_lexer": "ipython3",
   "version": "3.6.7"
  }
 },
 "nbformat": 4,
 "nbformat_minor": 1
}
