{
 "cells": [
  {
   "cell_type": "code",
   "execution_count": 1,
   "metadata": {
    "colab": {
     "base_uri": "https://localhost:8080/",
     "height": 122
    },
    "colab_type": "code",
    "id": "BIEdHLeqDLJH",
    "outputId": "bd25ca97-2443-4c65-d804-d9c0ff7b5586"
   },
   "outputs": [],
   "source": [
    "import os\n",
    "\n",
    "\n",
    "root_path = './'\n",
    "dataset_path = os.path.join(root_path, 'tf_dataset')\n",
    "\n",
    "models_path = os.path.join(root_path, 'saved_models')\n",
    "if not os.path.exists(models_path):\n",
    "  os.mkdir(models_path)"
   ]
  },
  {
   "cell_type": "code",
   "execution_count": 2,
   "metadata": {
    "colab": {},
    "colab_type": "code",
    "id": "XY64NlGCDdCr"
   },
   "outputs": [
    {
     "name": "stdout",
     "output_type": "stream",
     "text": [
      "1.13.1\n"
     ]
    },
    {
     "name": "stderr",
     "output_type": "stream",
     "text": [
      "Using TensorFlow backend.\n"
     ]
    }
   ],
   "source": [
    "import zipfile\n",
    "import os\n",
    "import numpy as np\n",
    "import pathlib\n",
    "import pandas as pd\n",
    "from math import ceil\n",
    "import tensorflow as tf\n",
    "# tf.enable_eager_execution()\n",
    "\n",
    "import numpy as np\n",
    "import IPython.display as display\n",
    "\n",
    "import keras\n",
    "\n",
    "print(tf.__version__)"
   ]
  },
  {
   "cell_type": "code",
   "execution_count": 3,
   "metadata": {
    "colab": {},
    "colab_type": "code",
    "id": "dWYY-ez0D6wt"
   },
   "outputs": [],
   "source": [
    "BATCH_SIZE = 1\n",
    "\n",
    "\n",
    "image_feature_description = {\n",
    "    'enc': tf.io.FixedLenSequenceFeature([], tf.float32, allow_missing=True),\n",
    "    'age': tf.io.FixedLenSequenceFeature([], tf.int64, allow_missing=True),\n",
    "    'img': tf.io.FixedLenSequenceFeature([], tf.string, allow_missing=True)\n",
    "}\n",
    "\n",
    "\n",
    "def _parse_image_function(example_proto):\n",
    "    return tf.io.parse_single_example(example_proto, image_feature_description)\n",
    "\n",
    "\n",
    "raw_train_dataset = tf.data.TFRecordDataset(os.path.join(dataset_path,'train.tfrecords'))\n",
    "parsed_train_dataset = raw_train_dataset.map(_parse_image_function)\n",
    "\n",
    "raw_val_dataset = tf.data.TFRecordDataset(os.path.join(dataset_path, 'val.tfrecords'))\n",
    "parsed_val_dataset = raw_val_dataset.map(_parse_image_function)\n",
    "\n",
    "raw_test_dataset = tf.data.TFRecordDataset(os.path.join(dataset_path, 'test.tfrecords'))\n",
    "parsed_test_dataset = raw_test_dataset.map(_parse_image_function)\n",
    "\n",
    "\n",
    "parsed_train_dataset = parsed_train_dataset.repeat()\n",
    "parsed_train_dataset = parsed_train_dataset.shuffle(1000)\n",
    "parsed_train_dataset = parsed_train_dataset.batch(BATCH_SIZE)\n",
    "dataset_iterator = parsed_train_dataset.make_one_shot_iterator()\n",
    "\n",
    "variable_dataset = dataset_iterator.get_next()"
   ]
  },
  {
   "cell_type": "code",
   "execution_count": 4,
   "metadata": {
    "colab": {},
    "colab_type": "code",
    "id": "HAuHCfjlFBOy"
   },
   "outputs": [],
   "source": [
    "enc_len = 128\n",
    "age_len = 8\n",
    "img_shape = (32, 32, 3)\n",
    "width, height, depth = (32, 32, 3)\n",
    "img_len = np.prod(img_shape)\n",
    "latent_dim = enc_len + age_len + img_len\n",
    "noise_len = 100  # 32 x 32 x 3\n",
    "input_dim = enc_len + age_len + noise_len\n",
    "cond_len = enc_len + age_len\n",
    "\n",
    "\n",
    "def build_discriminator():\n",
    "    model = keras.Sequential([\n",
    "        # dense 1\n",
    "        keras.layers.Dense(3072, input_shape=(latent_dim,)),\n",
    "        keras.layers.Activation(tf.nn.relu),\n",
    "        keras.layers.Dropout(0.2),\n",
    "        \n",
    "        # reshape 1d to 3d\n",
    "        keras.layers.Reshape((width, height, depth)),\n",
    "        \n",
    "        # conv block 1\n",
    "        keras.layers.Conv2D(filters=1, kernel_size=(3, 3), padding='same'),\n",
    "        keras.layers.Activation(tf.nn.relu),\n",
    "        keras.layers.MaxPooling2D(),\n",
    "        keras.layers.Dropout(0.2),\n",
    "        \n",
    "        # conv block 2\n",
    "        keras.layers.Conv2D(filters=2, kernel_size=(3, 3), padding='same'),\n",
    "        keras.layers.Activation(tf.nn.relu),\n",
    "        keras.layers.MaxPooling2D(),\n",
    "        keras.layers.Dropout(0.2),\n",
    "        \n",
    "        # conv block 3\n",
    "        keras.layers.Conv2D(filters=2, kernel_size=(3, 3), padding='same'),\n",
    "        keras.layers.Activation(tf.nn.relu),\n",
    "        keras.layers.MaxPooling2D(),\n",
    "        keras.layers.Dropout(0.2),\n",
    "        \n",
    "        # conv block 4\n",
    "        keras.layers.Conv2D(filters=1, kernel_size=(3, 3), padding='same'),\n",
    "        keras.layers.Activation(tf.nn.relu),\n",
    "        keras.layers.MaxPooling2D(),\n",
    "        keras.layers.Dropout(0.2),\n",
    "        \n",
    "        # flatten\n",
    "        keras.layers.Flatten(),\n",
    "        \n",
    "        # dense 2\n",
    "        keras.layers.Dense(128),\n",
    "        keras.layers.Activation(tf.nn.relu),\n",
    "        keras.layers.Dropout(0.2),\n",
    "        \n",
    "        # output\n",
    "        keras.layers.Dense(1),\n",
    "        keras.layers.Activation(tf.nn.sigmoid),\n",
    "    ])\n",
    "    \n",
    "    # condition\n",
    "    c1 = keras.layers.Input(shape=(enc_len,))\n",
    "    c2 = keras.layers.Input(shape=(age_len,))\n",
    "    \n",
    "    # image\n",
    "    z = keras.layers.Input(shape=img_shape)\n",
    "    \n",
    "    # flatten image\n",
    "    z_flat = keras.layers.Flatten()(z)\n",
    "    \n",
    "    # concatenation\n",
    "    inputs = keras.layers.concatenate([c1, c2, z_flat])\n",
    "    \n",
    "    # real or fake\n",
    "    outputs = model(inputs)\n",
    "    \n",
    "    return keras.models.Model([c1, c2, z], outputs)\n",
    "\n",
    "\n",
    "def build_generator():\n",
    "    model = keras.Sequential([\n",
    "        \n",
    "        # dense 1\n",
    "        keras.layers.Dense(3072, input_shape=(input_dim,)),\n",
    "        keras.layers.Activation(tf.nn.relu),\n",
    "        keras.layers.Dropout(0.2),\n",
    "        \n",
    "        # reshape 1d to 3d\n",
    "        keras.layers.Reshape((width, height, depth)),\n",
    "        \n",
    "        # transpose conv block 1\n",
    "        keras.layers.Conv2DTranspose(filters=1, kernel_size=(3, 3), padding='same'),\n",
    "        keras.layers.Activation(tf.nn.relu),\n",
    "        keras.layers.UpSampling2D(size=(2,2)),\n",
    "        keras.layers.Dropout(0.2),\n",
    "        \n",
    "        # transpose conv block 2\n",
    "        keras.layers.Conv2DTranspose(filters=2, kernel_size=(3, 3), padding='same'),\n",
    "        keras.layers.Activation(tf.nn.relu),\n",
    "        keras.layers.UpSampling2D(size=(2,2)),\n",
    "        keras.layers.Dropout(0.2),\n",
    "        \n",
    "        # transpose conv block 3\n",
    "        keras.layers.Conv2DTranspose(filters=2, kernel_size=(3, 3), padding='same'),\n",
    "        keras.layers.Activation(tf.nn.relu),\n",
    "        keras.layers.UpSampling2D(size=(2,2)),\n",
    "        keras.layers.Dropout(0.2),\n",
    "        \n",
    "        # transpose conv block 4\n",
    "        keras.layers.Conv2DTranspose(filters=1, kernel_size=(3, 3), padding='same'),\n",
    "        keras.layers.Activation(tf.nn.relu),\n",
    "        keras.layers.UpSampling2D(size=(2,2)),\n",
    "        keras.layers.Dropout(0.2),\n",
    "        \n",
    "        # flatten\n",
    "        keras.layers.Flatten(),\n",
    "        \n",
    "        # dense 3\n",
    "        keras.layers.Dense(3072),\n",
    "        keras.layers.Activation(tf.nn.relu),\n",
    "        keras.layers.Dropout(0.2),\n",
    "        \n",
    "        # reshape 1d to 3d\n",
    "        keras.layers.Reshape((width, height, depth)),\n",
    "        \n",
    "        # output\n",
    "        keras.layers.Activation(tf.nn.tanh),\n",
    "    ])\n",
    "    \n",
    "    # condition\n",
    "    c1 = keras.layers.Input(shape=(enc_len,))\n",
    "    c2 = keras.layers.Input(shape=(age_len,))\n",
    "    \n",
    "    # noise\n",
    "    x = keras.layers.Input(shape=(noise_len,))\n",
    "\n",
    "    # concatenation\n",
    "    inputs = keras.layers.concatenate([c1, c2, x])\n",
    "    \n",
    "    # real or fake\n",
    "    outputs = model(inputs)\n",
    "    \n",
    "    return keras.models.Model([c1, c2, x], outputs)"
   ]
  },
  {
   "cell_type": "code",
   "execution_count": 5,
   "metadata": {
    "colab": {},
    "colab_type": "code",
    "id": "zoYXZ0kE46LH"
   },
   "outputs": [
    {
     "name": "stdout",
     "output_type": "stream",
     "text": [
      "WARNING:tensorflow:From /usr/local/lib/python3.6/dist-packages/tensorflow/python/framework/op_def_library.py:263: colocate_with (from tensorflow.python.framework.ops) is deprecated and will be removed in a future version.\n",
      "Instructions for updating:\n",
      "Colocations handled automatically by placer.\n",
      "WARNING:tensorflow:From /usr/local/lib/python3.6/dist-packages/keras/backend/tensorflow_backend.py:3445: calling dropout (from tensorflow.python.ops.nn_ops) with keep_prob is deprecated and will be removed in a future version.\n",
      "Instructions for updating:\n",
      "Please use `rate` instead of `keep_prob`. Rate should be set to `rate = 1 - keep_prob`.\n"
     ]
    }
   ],
   "source": [
    "generator = build_generator()\n",
    "discriminator = build_discriminator()"
   ]
  },
  {
   "cell_type": "code",
   "execution_count": 6,
   "metadata": {
    "colab": {},
    "colab_type": "code",
    "id": "tfo8J8jQ4-FH"
   },
   "outputs": [
    {
     "name": "stdout",
     "output_type": "stream",
     "text": [
      "__________________________________________________________________________________________________\n",
      "Layer (type)                    Output Shape         Param #     Connected to                     \n",
      "==================================================================================================\n",
      "input_1 (InputLayer)            (None, 128)          0                                            \n",
      "__________________________________________________________________________________________________\n",
      "input_2 (InputLayer)            (None, 8)            0                                            \n",
      "__________________________________________________________________________________________________\n",
      "input_3 (InputLayer)            (None, 100)          0                                            \n",
      "__________________________________________________________________________________________________\n",
      "concatenate_1 (Concatenate)     (None, 236)          0           input_1[0][0]                    \n",
      "                                                                 input_2[0][0]                    \n",
      "                                                                 input_3[0][0]                    \n",
      "__________________________________________________________________________________________________\n",
      "sequential_1 (Sequential)       (None, 32, 32, 3)    806037609   concatenate_1[0][0]              \n",
      "==================================================================================================\n",
      "Total params: 806,037,609\n",
      "Trainable params: 806,037,609\n",
      "Non-trainable params: 0\n",
      "__________________________________________________________________________________________________\n"
     ]
    }
   ],
   "source": [
    "generator.summary()"
   ]
  },
  {
   "cell_type": "code",
   "execution_count": 7,
   "metadata": {
    "colab": {},
    "colab_type": "code",
    "id": "ObTb7HIf5CqA"
   },
   "outputs": [
    {
     "name": "stdout",
     "output_type": "stream",
     "text": [
      "__________________________________________________________________________________________________\n",
      "Layer (type)                    Output Shape         Param #     Connected to                     \n",
      "==================================================================================================\n",
      "input_6 (InputLayer)            (None, 32, 32, 3)    0                                            \n",
      "__________________________________________________________________________________________________\n",
      "input_4 (InputLayer)            (None, 128)          0                                            \n",
      "__________________________________________________________________________________________________\n",
      "input_5 (InputLayer)            (None, 8)            0                                            \n",
      "__________________________________________________________________________________________________\n",
      "flatten_3 (Flatten)             (None, 3072)         0           input_6[0][0]                    \n",
      "__________________________________________________________________________________________________\n",
      "concatenate_2 (Concatenate)     (None, 3208)         0           input_4[0][0]                    \n",
      "                                                                 input_5[0][0]                    \n",
      "                                                                 flatten_3[0][0]                  \n",
      "__________________________________________________________________________________________________\n",
      "sequential_2 (Sequential)       (None, 1)            9858922     concatenate_2[0][0]              \n",
      "==================================================================================================\n",
      "Total params: 9,858,922\n",
      "Trainable params: 9,858,922\n",
      "Non-trainable params: 0\n",
      "__________________________________________________________________________________________________\n"
     ]
    }
   ],
   "source": [
    "discriminator.summary()"
   ]
  },
  {
   "cell_type": "code",
   "execution_count": 8,
   "metadata": {
    "colab": {},
    "colab_type": "code",
    "id": "YHTmYpPeImn5"
   },
   "outputs": [],
   "source": [
    "GLR = 0.02  # generator\n",
    "DLR = 0.001  # discriminator\n",
    "\n",
    "\n",
    "discriminator.compile(\n",
    "    optimizer=keras.optimizers.Adam(lr=DLR),\n",
    "    loss=keras.losses.binary_crossentropy,\n",
    "    metrics=['accuracy']\n",
    ")\n",
    "\n",
    "\n",
    "# condition\n",
    "c1 = keras.layers.Input(shape=(enc_len,))\n",
    "c2 = keras.layers.Input(shape=(age_len,))\n",
    "\n",
    "# noise\n",
    "x = keras.layers.Input(shape=(noise_len,))\n",
    "\n",
    "# freeze discriminator\n",
    "discriminator.trainable = False\n",
    "\n",
    "# output\n",
    "z = generator([c1, c2, x])\n",
    "out = discriminator([c1, c2, z])\n",
    "\n",
    "# GAN\n",
    "gan = keras.models.Model(inputs=[c1, c2, x], outputs=out)\n",
    "\n",
    "gan.compile(\n",
    "    optimizer=keras.optimizers.Adam(lr=GLR),\n",
    "    loss=keras.losses.kullback_leibler_divergence,\n",
    "    metrics=['accuracy'])"
   ]
  },
  {
   "cell_type": "code",
   "execution_count": 9,
   "metadata": {
    "colab": {},
    "colab_type": "code",
    "id": "8mmrborLIvNK"
   },
   "outputs": [
    {
     "name": "stdout",
     "output_type": "stream",
     "text": [
      "[{'age': array([[1, 0, 0, 0, 0, 0, 0, 0]]), 'enc': array([[-0.1086603 ,  0.04563501,  0.04472969, -0.1751465 , -0.14248109,\n",
      "        -0.04283983, -0.07149061, -0.09526587,  0.15847453, -0.16017595,\n",
      "         0.21340522, -0.05663409, -0.24345164, -0.02577721, -0.03190402,\n",
      "         0.20027669, -0.15082538, -0.0875352 , -0.03400129,  0.00184081,\n",
      "        -0.00201011, -0.01336309, -0.01694861,  0.08701349, -0.07950043,\n",
      "        -0.3625144 , -0.12864819, -0.02722916, -0.02180449, -0.01567483,\n",
      "         0.04102714,  0.09351191, -0.11570089,  0.00240348, -0.03398673,\n",
      "         0.09887345, -0.1227401 , -0.1190379 ,  0.15029708,  0.00340848,\n",
      "        -0.20655927, -0.01269141,  0.0286572 ,  0.2281467 ,  0.14602447,\n",
      "        -0.02009147,  0.08271471, -0.03175923,  0.11569381, -0.21465173,\n",
      "        -0.04744072,  0.08850529,  0.07923974,  0.06165771,  0.04202266,\n",
      "        -0.13190317,  0.06340159,  0.20585619, -0.23542443, -0.00190188,\n",
      "        -0.02748545, -0.07948276, -0.00110933, -0.06769525,  0.22343315,\n",
      "         0.14399523, -0.14424828, -0.14677136,  0.16504028, -0.14687093,\n",
      "        -0.05676418, -0.00036876, -0.15515327, -0.20914796, -0.27042705,\n",
      "         0.04088888,  0.28393942,  0.14240643, -0.09209931,  0.06371303,\n",
      "         0.01562622, -0.06704736,  0.0026789 ,  0.11705746, -0.04616288,\n",
      "        -0.02856773, -0.0548358 , -0.00879025,  0.17131105, -0.07591765,\n",
      "         0.0225308 ,  0.23864675,  0.00896665,  0.0474324 , -0.02911335,\n",
      "         0.00495088, -0.11566982,  0.07156415, -0.09276496,  0.04245985,\n",
      "         0.01734582, -0.08608098,  0.02249089,  0.0594629 , -0.15424165,\n",
      "         0.20085692,  0.00824704,  0.01791643, -0.02525069,  0.03958557,\n",
      "        -0.12186287, -0.06231359,  0.1484926 , -0.20202017,  0.18027675,\n",
      "         0.20863503,  0.09403332,  0.15346785,  0.1387991 ,  0.01655647,\n",
      "         0.03040832, -0.00871665, -0.14858547, -0.03072298,  0.09263417,\n",
      "        -0.05635439,  0.0287916 ,  0.05262358]], dtype=float32), 'img': array([[b'47<?BG8;@27<<:@`V^dX_H=BG<BaU]RGOcYa_U]eYaYS]DBMBAK>@I9<E25>/8A/8B.7A&09$.7,6?(03\"*- (+!),#+.\\x1b$)149:=B26;058:8=bX^sekTEJYJPiZc]S[_W^bX`tdnj_iUNWC>FB>F<:A;;A27=/5;-39)/6\\'-3-2916:+04&+/#(,%*.\\x1f\\',47<58=47;279?<@cX]\\x7foul\\\\`n\\\\bxfofZbe[baU]~luzksj^eOEKUMSQJPJDJ?>D<<B88>0162389:?AEI>BG059\\',0$)- (.98=88;;;=?:<LDGmbf\\x8d}\\x82\\x81ms\\x83nt\\x8ey~\\x80kp}hms^c\\x8bv{\\x8e{\\x80\\x8f|\\x82\\x85sz\\x8b{\\x83\\x87w\\x81wjtrhsqisgajQMUROWUS[STYILQ7:?.48$,/!*.75:@=@FBDVJNpbg\\x8c{\\x80\\x9c\\x87\\x8e\\xa1\\x89\\x91\\xa1\\x89\\x91\\x9d\\x88\\x8d\\x9b\\x86\\x8b\\x9d\\x88\\x8d\\x9e\\x89\\x8e\\xa5\\x90\\x95\\xa5\\x92\\x97\\xa3\\x90\\x96\\xa1\\x8f\\x96\\x97\\x86\\x8f\\x8e~\\x88\\x89|\\x86\\x84x\\x80\\x81v~|rzripkejfbgZZ`MNS=@E6:?*04\\x1d%*<8<PILbX[zgk\\x90|\\x80\\x9f\\x89\\x8f\\xa9\\x91\\x97\\xad\\x93\\x9a\\xa6\\x8d\\x94\\x9f\\x8a\\x8f\\x9f\\x8a\\x8f\\xa3\\x8e\\x93\\xa9\\x94\\x99\\xab\\x96\\x9b\\xac\\x98\\x9e\\xa9\\x96\\x9c\\xa4\\x92\\x99\\x9a\\x89\\x92\\x92\\x82\\x8c\\x8d\\x80\\x8a\\x8c}\\x85\\x89{\\x82\\x88{\\x82\\x85z\\x80\\x80w|tlqa`fPPVBCH=?D15:\\x1e%*E?A_UWpce\\x88ru\\x93~\\x81\\x9b\\x86\\x89\\xa2\\x8c\\x8f\\x9f\\x88\\x8b\\x9f\\x89\\x8d\\xa0\\x8b\\x90\\xa1\\x8c\\x91\\xa4\\x8f\\x94\\xaa\\x95\\x9a\\xae\\x99\\x9e\\xac\\x98\\x9e\\xa8\\x95\\x9b\\xa3\\x91\\x97\\x9a\\x89\\x92\\x95\\x85\\x8f\\x8d\\x80\\x8a\\x87y\\x83\\x89|\\x86\\x87{\\x84\\x84z\\x83\\x81x\\x81zs{jgnZX_IINDEJ;=B\"(-LDEh[]uef\\x84pq\\x8dy{\\x9a\\x87\\x88\\xa3\\x90\\x91\\xa4\\x92\\x93\\xa5\\x92\\x94\\xa4\\x8f\\x94\\xa2\\x8d\\x92\\xa4\\x8f\\x94\\xa8\\x93\\x98\\xae\\x99\\x9e\\xac\\x98\\x9e\\xa6\\x93\\x99\\xa0\\x8e\\x95\\x98\\x87\\x90\\x90\\x80\\x8a\\x86y\\x83\\x7ft\\x82zp\\x7fvn|nhunivplxnip`]dRPVONTEFK(-2PGHn`avef\\x83qv\\x99\\x87\\x8a\\xa6\\x93\\x95\\xac\\x9a\\x9c\\xa6\\x96\\x9a\\x9f\\x8e\\x95\\xa1\\x8b\\x97\\x9e\\x88\\x92\\xa0\\x8a\\x92\\xa4\\x8d\\x93\\xac\\x95\\x9a\\xae\\x9a\\xa1\\xa7\\x95\\x9d\\x9e\\x8b\\x94\\x92\\x81\\x8b\\x88{\\x85|s}ro~YXgBCS>@QKN`WYkkcmibl_ZcYW^LMR15;KACrcd{hj\\x8b{\\x83\\x9c\\x8a\\x90\\xa2\\x8d\\x93\\x9f\\x8d\\x95\\x8d\\x80\\x8c\\x7ft\\x83\\x7fp\\x83\\x8c{\\x8b\\x98\\x85\\x91\\xa0\\x8a\\x92\\xaa\\x92\\x97\\xaf\\x9c\\xa2\\xab\\x99\\xa3\\xa2\\x8e\\x99\\x92\\x80\\x8c\\x85y\\x85upzfly;BQIP`18IRWk[^rk_lrhsjcma^eQQV9<BLBDvgg\\x81no\\x8dz\\x80\\x9a\\x86\\x8b\\x96\\x83\\x8a{nz\\\\VgHGZON_]Xg\\x88~\\x8a\\x9f\\x8e\\x97\\xa7\\x91\\x98\\xad\\x99\\x9f\\xb3\\x9f\\xa6\\xa7\\x91\\x9a\\x94\\x81\\x8b\\x8c~\\x88\\x85}\\x86\\x82\\x87\\x97OUe<>NDCRfapohuvis{pyrjrdahTSY=?EMCEzkk\\x8cyz\\x91{\\x80\\x97\\x82\\x86\\x86t{thtiexEH[KQ`XXe\\x8d\\x86\\x91\\xa5\\x96\\x9f\\xa9\\x94\\x9b\\xad\\x98\\x9c\\xb8\\xa1\\xa6\\xae\\x95\\x9c\\x9e\\x87\\x8f\\x98\\x88\\x8f\\x92\\x88\\x8e\\x8a\\x8a\\x98\\x83\\x82\\x91xr\\x81vly\\x81s~\\x87w\\x81\\x84v{\\x81u{uksfahTQZ>?FQFH}nn\\x94\\x81\\x82\\x9d\\x88\\x8c\\xa2\\x8c\\x8f\\x96\\x80\\x84\\x8f~\\x86\\x85{\\x88e`oher\\x86\\x7f\\x8b\\xa4\\x98\\xa0\\xb1\\xa0\\xa5\\xaf\\x9a\\x9c\\xb0\\x98\\x9a\\xb7\\x9d\\xa0\\xaf\\x93\\x98\\xa1\\x88\\x8d\\x9f\\x8c\\x91\\x9c\\x8f\\x93\\x99\\x8e\\x98\\x96\\x8a\\x96\\x98\\x8a\\x95\\x99\\x88\\x93\\x99\\x86\\x91\\x97\\x84\\x8e\\x90\\x81\\x83\\x86y}wmribiUPY@@GSIK}mn\\x96\\x83\\x84\\xa5\\x90\\x95\\xac\\x94\\x97\\xad\\x93\\x94\\xa8\\x90\\x93\\xa2\\x8f\\x95\\x9f\\x8f\\x99\\xa8\\x98\\xa4\\xad\\x9b\\xa5\\xb6\\xa2\\xa8\\xb7\\xa1\\xa2\\xaf\\x98\\x96\\xac\\x93\\x92\\xaf\\x93\\x94\\xaa\\x8c\\x90\\x9f\\x83\\x87\\x9a\\x85\\x88\\xa0\\x91\\x93\\xa8\\x94\\x99\\xa9\\x94\\x9a\\xa3\\x8f\\x97\\xa5\\x90\\x9b\\xa2\\x8e\\x9a\\x9f\\x8b\\x97\\x98\\x88\\x88\\x8b~~ynrkbjUOYA?HXOSsei\\x92\\x80\\x84\\xa6\\x8d\\x90\\xb0\\x97\\x99\\xb4\\x9a\\x9d\\xb5\\x9e\\xa0\\xb7\\xa1\\xa3\\xb6\\xa2\\xa6\\xb2\\x9e\\xa5\\xb6\\xa4\\xa9\\xbd\\xaa\\xac\\xb8\\xa1\\xa3\\xae\\x91\\x94\\xab\\x8b\\x8c\\xaf\\x8e\\x8e\\xad\\x8d\\x8e\\xa0\\x81\\x84\\x93wz\\xa3\\x89\\x8d\\xaa\\x9f\\x9e\\xae\\x9f\\xa0\\xaf\\x99\\x9d\\xab\\x91\\x97\\xa8\\x8f\\x96\\xa4\\x8e\\x93\\x9c\\x87\\x88\\x90|\\x7f|lqiagOPU<?D]RWm^c\\x8e|\\x80\\xa4\\x88\\x8c\\xb3\\x98\\x9b\\xbb\\xa2\\xa5\\xbd\\xa5\\xa8\\xbd\\xa7\\xa9\\xbe\\xa9\\xac\\xc0\\xac\\xb1\\xc2\\xb0\\xb3\\xc2\\xaf\\xb0\\xbd\\xa5\\xa8\\xaa\\x8c\\x8f\\xab\\x8a\\x8a\\xb3\\x91\\x90\\xb1\\x90\\x91\\xa8\\x89\\x8b\\x92sw\\x95x|\\xae\\xa2\\xa1\\xba\\xab\\xac\\xba\\xa4\\xa7\\xb4\\x99\\x9e\\xaa\\x91\\x95\\xa4\\x8d\\x90\\x9c\\x85\\x87\\x90z~\\x7fmriafMOS<BEdY]fW[\\x89vz\\xa1\\x84\\x86\\xb1\\x94\\x96\\xbd\\xa3\\xa4\\xc1\\xa8\\xa9\\xc5\\xad\\xad\\xc6\\xb0\\xb1\\xc8\\xb2\\xb6\\xca\\xb7\\xb9\\xcc\\xb8\\xb9\\xbd\\xa3\\xa5\\xa7\\x87\\x89\\xb7\\x95\\x96\\xc2\\xa0\\x9f\\xc4\\xa4\\xa5\\xb7\\x97\\x9a\\xa1\\x82\\x86\\x91tx\\x9f\\x8e\\x8f\\xbb\\xa9\\xaa\\xc0\\xaa\\xad\\xbe\\xa5\\xa9\\xb7\\x9e\\xa2\\xac\\x92\\x97\\xa0\\x87\\x8a\\x92y~\\x81nsj`eMMR=BFnbdgVY\\x84oq\\xa3\\x84\\x84\\xae\\x91\\x91\\xbc\\xa0\\x9f\\xc3\\xa9\\xa8\\xc7\\xae\\xac\\xce\\xb6\\xb6\\xd0\\xba\\xbc\\xd0\\xbc\\xbd\\xcf\\xba\\xba\\xb6\\x9c\\x9b\\xb3\\x92\\x93\\xbd\\x9a\\x9a\\xc1\\x9f\\x9e\\xc2\\xa1\\xa2\\xb3\\x94\\x96\\xa6\\x87\\x8b\\xa2\\x85\\x89\\x9a\\x82\\x86\\xbb\\xa4\\xa7\\xc1\\xab\\xae\\xc1\\xa9\\xad\\xba\\xa0\\xa5\\xb2\\x97\\x9b\\xa3\\x89\\x8c\\x95{\\x80\\x81lrk_eLKP>BGvhiwdf\\x83mn\\xa1\\x81\\x81\\xae\\x8f\\x8f\\xbb\\x9d\\x9c\\xc5\\xa9\\xa7\\xcc\\xb2\\xb0\\xd3\\xba\\xb9\\xd8\\xbf\\xc2\\xd3\\xbe\\xbe\\xcc\\xb5\\xb4\\xb8\\x9b\\x9a\\xb5\\x93\\x92\\xb0\\x8c\\x8c\\xb6\\x94\\x93\\xb3\\x93\\x94\\xa8\\x89\\x8b\\xa1\\x82\\x86\\xa6\\x88\\x8c\\xa8\\x8a\\x8f\\xbc\\xa2\\xa6\\xc2\\xac\\xaf\\xc4\\xb0\\xb2\\xbf\\xa5\\xaa\\xb5\\x98\\x9d\\xa8\\x8b\\x8f\\x99}\\x83\\x85num`gMKQ;>Cvhh\\x92\\x7f\\x80\\x8dvx\\x9c|{\\xaf\\x90\\x8e\\xbd\\x9e\\x9c\\xc9\\xac\\xa9\\xd1\\xb5\\xb2\\xd5\\xbb\\xba\\xd8\\xbf\\xc0\\xd2\\xbd\\xbc\\xcd\\xb6\\xb4\\xc1\\xa5\\xa3\\xb8\\x94\\x95\\xba\\x97\\x97\\xbc\\x9b\\x9a\\xb4\\x95\\x95\\xb5\\x97\\x99\\xb0\\x92\\x96\\xad\\x90\\x94\\xaf\\x8f\\x95\\xb8\\x9d\\xa1\\xc3\\xad\\xb0\\xc4\\xaf\\xb1\\xc1\\xa7\\xac\\xb8\\x9a\\x9f\\xab\\x8d\\x92\\x9d\\x80\\x86\\x88pwpaiOKQ9<Ai^b\\x83vzzkp\\x94{}\\xae\\x8d\\x8c\\xc3\\x9b\\x9a\\xcc\\xa6\\xa4\\xd0\\xb2\\xb1\\xd6\\xbc\\xbd\\xd7\\xbf\\xbf\\xd1\\xbc\\xbb\\xcc\\xb7\\xb6\\xc3\\xa8\\xa9\\xbe\\x9e\\xa1\\xba\\x9c\\x9f\\xc0\\xa5\\xa6\\xc0\\xa5\\xa6\\xbc\\xa1\\xa2\\xab\\x90\\x92\\xa6\\x8b\\x8c\\xa1\\x8a\\x8d\\xac\\x97\\x99\\xbd\\xa8\\xab\\xc5\\xae\\xb1\\xbf\\xa3\\xa8\\xb8\\x99\\x9e\\xaf\\x8c\\x92\\x9e~\\x85\\x8aoxqaiQNT87>JCEHBDNFH\\x8buw\\xab\\x8c\\x8d\\xc1\\x9a\\x98\\xcc\\xa6\\xa4\\xce\\xb0\\xae\\xd3\\xb9\\xb9\\xd8\\xbf\\xc0\\xd4\\xbe\\xbd\\xcd\\xb6\\xb6\\xc3\\xa6\\xa8\\xba\\x96\\x9a\\xbc\\x92\\x98\\xbe\\x92\\x99\\xbd\\x90\\x97\\xbc\\x8f\\x96\\xb4\\x87\\x8e\\xad\\x81\\x88\\x9e\\x7f\\x85\\xa6\\x8c\\x90\\xb7\\xa1\\xa4\\xbf\\xaa\\xad\\xbc\\xa1\\xa6\\xb5\\x96\\x9c\\xac\\x8c\\x91\\x9d~\\x85\\x89owqcjRPV58>FDELMMFGF}jm\\xa6\\x8a\\x8b\\xbe\\x9a\\x98\\xcc\\xa7\\xa4\\xce\\xaf\\xab\\xd1\\xb6\\xb4\\xd5\\xbc\\xbc\\xd3\\xbb\\xbb\\xcc\\xb1\\xb2\\xbf\\x9d\\xa1\\xb6\\x8c\\x92\\xb1\\x81\\x89\\xadz\\x83\\xabx\\x81\\xa8u~\\xa5r{\\x9cir\\x99py\\xa0\\x81\\x87\\xb1\\x9b\\x9e\\xbb\\xa7\\xa9\\xb9\\xa1\\xa5\\xb2\\x95\\x9a\\xaa\\x8a\\x8f\\x9b}\\x83\\x87owpdjRRW5=BOQPKNMDFEj\\\\`\\x9f\\x87\\x88\\xb9\\x97\\x95\\xc7\\xa4\\x9e\\xcc\\xad\\xa7\\xce\\xb3\\xaf\\xd3\\xb9\\xba\\xd0\\xb5\\xb6\\xc7\\xa8\\xab\\xb5\\x8e\\x93\\xa2rz\\x99fp\\xa0lv\\xa6r|\\xa0mv\\x9flu\\x9cir\\x94bn\\x94nv\\xab\\x94\\x98\\xb5\\xa5\\xa6\\xb7\\xa2\\xa5\\xb2\\x95\\x9a\\xa8\\x89\\x8e\\x98|\\x82\\x85ovmbhOPU9CH;>=JKJEEERGM\\x94~\\x81\\xb2\\x91\\x8f\\xc2\\x9f\\x99\\xc8\\xa9\\xa1\\xca\\xae\\xa9\\xcc\\xb2\\xb3\\xce\\xb1\\xb3\\xbb\\x9a\\x9d\\xa0u|\\x9afo\\xa9kx\\xafm{\\xb0o}\\xb2p\\x7f\\xael{\\xa9hv\\xa3hw\\x9dq{\\xab\\x93\\x97\\xb4\\xa6\\xa6\\xb5\\xa2\\xa4\\xb3\\x97\\x9c\\xa6\\x89\\x8d\\x94y~\\x83ntlciKMQISX:<9DCB@==A8=\\x7fkm\\xa6\\x87\\x87\\xba\\x98\\x93\\xc5\\xa4\\x9d\\xca\\xaf\\xaa\\xc9\\xb3\\xb4\\xc8\\xaf\\xb0\\xb8\\x99\\x9a\\xab\\x80\\x83\\xafv}\\xbat\\x82\\xc3x\\x8a\\xc2x\\x8a\\xc6\\x7f\\x90\\xc2|\\x8d\\xb2m~\\xa4q}\\xa5\\x7f\\x87\\xb1\\x98\\x9c\\xb5\\xa3\\xa5\\xb3\\x9e\\xa1\\xac\\x92\\x96\\xa0\\x86\\x8a\\x8fx|\\x81puf_dLMRfovFEDCBAA??@<<XJK\\x97}\\x7f\\xb0\\x8f\\x8f\\xc1\\x9f\\x9c\\xc7\\xab\\xa8\\xc5\\xb0\\xb1\\xc5\\xb0\\xaf\\xc7\\xab\\xa9\\xbe\\x96\\x94\\xb7\\x83\\x83\\xb7{\\x85\\xbf\\x82\\x91\\xbf\\x86\\x93\\xb9\\x84\\x90\\xad}\\x87\\xa6x\\x82\\xa2\\x84\\x8a\\xac\\x91\\x96\\xb5\\x9b\\xa0\\xb4\\x9d\\xa0\\xaf\\x9a\\x9d\\xa3\\x8f\\x91\\x9a\\x85\\x88\\x8d{~{puWRXddk\\x80\\x8a\\x92KKLKKLEFG@BBJDEr`b\\x9c\\x81\\x83\\xaf\\x91\\x92\\xc0\\xa1\\xa1\\xc5\\xa9\\xa8\\xc5\\xab\\xaa\\xc5\\xab\\xaa\\xc0\\xa2\\xa2\\xb9\\x98\\x99\\xb4\\x8e\\x93\\xb2\\x8a\\x92\\xb2\\x8e\\x95\\xb0\\x8f\\x94\\xb3\\x95\\x9a\\xb5\\x99\\x9d\\xb4\\x9b\\x9f\\xb6\\x9e\\xa2\\xb3\\x9d\\xa0\\xb2\\x9d\\xa0\\xac\\x99\\x9b\\xa1\\x8f\\x91\\x95\\x84\\x87\\x89|\\x7fg`ecch\\x81\\x86\\x8c\\x9b\\xa8\\xafLJLKJLHHJ?DF<=?D>Apae\\x9a\\x84\\x8a\\xad\\x93\\x96\\xbc\\x9e\\x9d\\xc1\\xa6\\xa4\\xc2\\xa9\\xa9\\xc1\\xac\\xac\\xbf\\xad\\xad\\xc3\\xae\\xaf\\xc5\\xaf\\xb0\\xcb\\xb7\\xb8\\xcc\\xba\\xba\\xc7\\xb6\\xb6\\xc0\\xaf\\xaf\\xc0\\xab\\xad\\xb7\\xa2\\xa5\\xb2\\x9f\\xa1\\xad\\x9b\\x9c\\xa5\\x96\\x96\\x9d\\x8f\\x8f\\x8e\\x84\\x86oilops\\x81\\x88\\x8c\\x90\\x9b\\xa1\\xac\\xbc\\xc3f^]_YXOKJ;<A36:69=BAFc\\\\d\\x91\\x84\\x89\\xa9\\x97\\x96\\xb4\\x9e\\x9e\\xbd\\xa6\\xa7\\xc0\\xac\\xab\\xc2\\xb2\\xb0\\xcb\\xba\\xb9\\xcf\\xbc\\xbc\\xd1\\xbf\\xbf\\xd0\\xbe\\xbf\\xca\\xb8\\xb9\\xc2\\xb0\\xb0\\xbc\\xaa\\xab\\xb4\\xa3\\xa4\\xab\\x9b\\x9c\\xa2\\x95\\x95\\x9b\\x8e\\x8e\\x87||xuv\\x8b\\x8b\\x8e\\x9b\\xa2\\xa5\\xa9\\xb6\\xba\\xb1\\xc3\\xc9\\xc9\\xdc\\xe2tebj_[]TQLHP<>E5>C;DJ]bj\\xa0\\xa1\\xa8\\x98\\x93\\x95\\x9a\\x8b\\x8d\\xaa\\x95\\x96\\xb9\\xa2\\x9f\\xc0\\xac\\xa6\\xc6\\xb1\\xb0\\xcc\\xb4\\xb6\\xcd\\xb4\\xb7\\xc7\\xad\\xb0\\xc5\\xaa\\xad\\xc3\\xa8\\xab\\xb8\\xa7\\xa8\\xb1\\xa2\\xa2\\xa2\\x95\\x95\\x8b\\x7f\\x7f\\x85{z\\x9b\\x93\\x92\\xab\\xac\\xad\\xc0\\xc5\\xc7\\xcc\\xd8\\xda\\xd1\\xe3\\xe7\\xcd\\xe4\\xe8\\xce\\xe5\\xebymlqfeh\\\\]\\\\SVPOTGOWp|\\x84\\xa4\\xb0\\xb9\\xb7\\xbe\\xc8\\xb3\\xb5\\xbd\\xa0\\x99\\x9d\\xa1\\x91\\x91\\xa6\\x91\\x8f\\xaf\\x9b\\x98\\xb9\\xa1\\xa5\\xc0\\xa6\\xad\\xbf\\xa6\\xac\\xba\\xa3\\xa8\\xb8\\xa3\\xa6\\xb4\\xa0\\xa2\\xb0\\x9a\\x9a\\x9b\\x8b\\x8exrw\\x8c\\x8f\\x93\\xb0\\xb5\\xb6\\xbf\\xc6\\xc5\\xce\\xda\\xdf\\xda\\xe3\\xea\\xd6\\xe1\\xe8\\xd2\\xde\\xe6\\xc7\\xd8\\xdf\\xc5\\xd8\\xde']],\n",
      "      dtype=object)}]\n",
      "[[1 0 0 0 0 0 0 0]] [[-0.1086603   0.04563501  0.04472969 -0.1751465  -0.14248109 -0.04283983\n",
      "  -0.07149061 -0.09526587  0.15847453 -0.16017595  0.21340522 -0.05663409\n",
      "  -0.24345164 -0.02577721 -0.03190402  0.20027669 -0.15082538 -0.0875352\n",
      "  -0.03400129  0.00184081 -0.00201011 -0.01336309 -0.01694861  0.08701349\n",
      "  -0.07950043 -0.3625144  -0.12864819 -0.02722916 -0.02180449 -0.01567483\n",
      "   0.04102714  0.09351191 -0.11570089  0.00240348 -0.03398673  0.09887345\n",
      "  -0.1227401  -0.1190379   0.15029708  0.00340848 -0.20655927 -0.01269141\n",
      "   0.0286572   0.2281467   0.14602447 -0.02009147  0.08271471 -0.03175923\n",
      "   0.11569381 -0.21465173 -0.04744072  0.08850529  0.07923974  0.06165771\n",
      "   0.04202266 -0.13190317  0.06340159  0.20585619 -0.23542443 -0.00190188\n",
      "  -0.02748545 -0.07948276 -0.00110933 -0.06769525  0.22343315  0.14399523\n",
      "  -0.14424828 -0.14677136  0.16504028 -0.14687093 -0.05676418 -0.00036876\n",
      "  -0.15515327 -0.20914796 -0.27042705  0.04088888  0.28393942  0.14240643\n",
      "  -0.09209931  0.06371303  0.01562622 -0.06704736  0.0026789   0.11705746\n",
      "  -0.04616288 -0.02856773 -0.0548358  -0.00879025  0.17131105 -0.07591765\n",
      "   0.0225308   0.23864675  0.00896665  0.0474324  -0.02911335  0.00495088\n",
      "  -0.11566982  0.07156415 -0.09276496  0.04245985  0.01734582 -0.08608098\n",
      "   0.02249089  0.0594629  -0.15424165  0.20085692  0.00824704  0.01791643\n",
      "  -0.02525069  0.03958557 -0.12186287 -0.06231359  0.1484926  -0.20202017\n",
      "   0.18027675  0.20863503  0.09403332  0.15346785  0.1387991   0.01655647\n",
      "   0.03040832 -0.00871665 -0.14858547 -0.03072298  0.09263417 -0.05635439\n",
      "   0.0287916   0.05262358]]\n",
      "[[[ 52  55  60 ... 197 216 222]]]\n"
     ]
    }
   ],
   "source": [
    "with tf.Session() as sess:\n",
    "  values = sess.run([variable_dataset])\n",
    "  print(values)\n",
    "  print(values[0]['age'], values[0]['enc'])\n",
    "  print(tf.io.decode_raw(values[0]['img'], tf.uint8).eval())"
   ]
  },
  {
   "cell_type": "code",
   "execution_count": 10,
   "metadata": {
    "colab": {},
    "colab_type": "code",
    "id": "eZNLvw1uCEiz"
   },
   "outputs": [
    {
     "name": "stdout",
     "output_type": "stream",
     "text": [
      "[[0 0 1 0 0 0 0 0]]\n"
     ]
    }
   ],
   "source": [
    "with tf.Session() as sess:\n",
    "  for i in range(4000//16):\n",
    "    values = sess.run([variable_dataset])\n",
    "    print(values[0]['age'])\n",
    "    break"
   ]
  },
  {
   "cell_type": "code",
   "execution_count": 11,
   "metadata": {
    "colab": {},
    "colab_type": "code",
    "id": "RK7vMyQWLp1V"
   },
   "outputs": [
    {
     "data": {
      "text/plain": [
       "<DatasetV1Adapter shapes: {age: (?, ?), enc: (?, ?), img: (?, ?)}, types: {age: tf.int64, enc: tf.float32, img: tf.string}>"
      ]
     },
     "execution_count": 11,
     "metadata": {},
     "output_type": "execute_result"
    }
   ],
   "source": [
    "parsed_train_dataset"
   ]
  },
  {
   "cell_type": "code",
   "execution_count": 12,
   "metadata": {
    "colab": {
     "base_uri": "https://localhost:8080/",
     "height": 581
    },
    "colab_type": "code",
    "id": "iSszxe2oKY02",
    "outputId": "ee5ce939-c513-4c70-9983-ae17faca6d67"
   },
   "outputs": [
    {
     "name": "stdout",
     "output_type": "stream",
     "text": [
      "WARNING:tensorflow:From /usr/local/lib/python3.6/dist-packages/tensorflow/python/util/tf_should_use.py:193: initialize_all_variables (from tensorflow.python.ops.variables) is deprecated and will be removed after 2017-03-02.\n",
      "Instructions for updating:\n",
      "Use `tf.global_variables_initializer` instead.\n"
     ]
    },
    {
     "ename": "ResourceExhaustedError",
     "evalue": "OOM when allocating tensor with shape[3072] and type float on /job:localhost/replica:0/task:0/device:GPU:0 by allocator GPU_0_bfc\n\t [[node dense_2/bias/Assign (defined at /usr/local/lib/python3.6/dist-packages/keras/backend/tensorflow_backend.py:402) ]]\nHint: If you want to see a list of allocated tensors when OOM happens, add report_tensor_allocations_upon_oom to RunOptions for current allocation info.\n\n\nCaused by op 'dense_2/bias/Assign', defined at:\n  File \"/usr/lib/python3.6/runpy.py\", line 193, in _run_module_as_main\n    \"__main__\", mod_spec)\n  File \"/usr/lib/python3.6/runpy.py\", line 85, in _run_code\n    exec(code, run_globals)\n  File \"/home/qamaruddin/.local/lib/python3.6/site-packages/ipykernel_launcher.py\", line 16, in <module>\n    app.launch_new_instance()\n  File \"/usr/lib/python3/dist-packages/traitlets/config/application.py\", line 658, in launch_instance\n    app.start()\n  File \"/home/qamaruddin/.local/lib/python3.6/site-packages/ipykernel/kernelapp.py\", line 505, in start\n    self.io_loop.start()\n  File \"/home/qamaruddin/.local/lib/python3.6/site-packages/tornado/platform/asyncio.py\", line 132, in start\n    self.asyncio_loop.run_forever()\n  File \"/usr/lib/python3.6/asyncio/base_events.py\", line 427, in run_forever\n    self._run_once()\n  File \"/usr/lib/python3.6/asyncio/base_events.py\", line 1440, in _run_once\n    handle._run()\n  File \"/usr/lib/python3.6/asyncio/events.py\", line 145, in _run\n    self._callback(*self._args)\n  File \"/home/qamaruddin/.local/lib/python3.6/site-packages/tornado/ioloop.py\", line 758, in _run_callback\n    ret = callback()\n  File \"/home/qamaruddin/.local/lib/python3.6/site-packages/tornado/stack_context.py\", line 300, in null_wrapper\n    return fn(*args, **kwargs)\n  File \"/home/qamaruddin/.local/lib/python3.6/site-packages/tornado/gen.py\", line 1233, in inner\n    self.run()\n  File \"/home/qamaruddin/.local/lib/python3.6/site-packages/tornado/gen.py\", line 1147, in run\n    yielded = self.gen.send(value)\n  File \"/home/qamaruddin/.local/lib/python3.6/site-packages/ipykernel/kernelbase.py\", line 370, in dispatch_queue\n    yield self.process_one()\n  File \"/home/qamaruddin/.local/lib/python3.6/site-packages/tornado/gen.py\", line 346, in wrapper\n    runner = Runner(result, future, yielded)\n  File \"/home/qamaruddin/.local/lib/python3.6/site-packages/tornado/gen.py\", line 1080, in __init__\n    self.run()\n  File \"/home/qamaruddin/.local/lib/python3.6/site-packages/tornado/gen.py\", line 1147, in run\n    yielded = self.gen.send(value)\n  File \"/home/qamaruddin/.local/lib/python3.6/site-packages/ipykernel/kernelbase.py\", line 357, in process_one\n    yield gen.maybe_future(dispatch(*args))\n  File \"/home/qamaruddin/.local/lib/python3.6/site-packages/tornado/gen.py\", line 326, in wrapper\n    yielded = next(result)\n  File \"/home/qamaruddin/.local/lib/python3.6/site-packages/ipykernel/kernelbase.py\", line 267, in dispatch_shell\n    yield gen.maybe_future(handler(stream, idents, msg))\n  File \"/home/qamaruddin/.local/lib/python3.6/site-packages/tornado/gen.py\", line 326, in wrapper\n    yielded = next(result)\n  File \"/home/qamaruddin/.local/lib/python3.6/site-packages/ipykernel/kernelbase.py\", line 534, in execute_request\n    user_expressions, allow_stdin,\n  File \"/home/qamaruddin/.local/lib/python3.6/site-packages/tornado/gen.py\", line 326, in wrapper\n    yielded = next(result)\n  File \"/home/qamaruddin/.local/lib/python3.6/site-packages/ipykernel/ipkernel.py\", line 294, in do_execute\n    res = shell.run_cell(code, store_history=store_history, silent=silent)\n  File \"/home/qamaruddin/.local/lib/python3.6/site-packages/ipykernel/zmqshell.py\", line 536, in run_cell\n    return super(ZMQInteractiveShell, self).run_cell(*args, **kwargs)\n  File \"/home/qamaruddin/.local/lib/python3.6/site-packages/IPython/core/interactiveshell.py\", line 2819, in run_cell\n    raw_cell, store_history, silent, shell_futures)\n  File \"/home/qamaruddin/.local/lib/python3.6/site-packages/IPython/core/interactiveshell.py\", line 2845, in _run_cell\n    return runner(coro)\n  File \"/home/qamaruddin/.local/lib/python3.6/site-packages/IPython/core/async_helpers.py\", line 67, in _pseudo_sync_runner\n    coro.send(None)\n  File \"/home/qamaruddin/.local/lib/python3.6/site-packages/IPython/core/interactiveshell.py\", line 3020, in run_cell_async\n    interactivity=interactivity, compiler=compiler, result=result)\n  File \"/home/qamaruddin/.local/lib/python3.6/site-packages/IPython/core/interactiveshell.py\", line 3185, in run_ast_nodes\n    if (yield from self.run_code(code, result)):\n  File \"/home/qamaruddin/.local/lib/python3.6/site-packages/IPython/core/interactiveshell.py\", line 3267, in run_code\n    exec(code_obj, self.user_global_ns, self.user_ns)\n  File \"<ipython-input-5-4a0e7b66c110>\", line 1, in <module>\n    generator = build_generator()\n  File \"<ipython-input-4-4f6dce5537c6>\", line 125, in build_generator\n    keras.layers.Activation(tf.nn.tanh),\n  File \"/usr/local/lib/python3.6/dist-packages/keras/engine/sequential.py\", line 93, in __init__\n    self.add(layer)\n  File \"/usr/local/lib/python3.6/dist-packages/keras/engine/sequential.py\", line 181, in add\n    output_tensor = layer(self.outputs[0])\n  File \"/usr/local/lib/python3.6/dist-packages/keras/engine/base_layer.py\", line 431, in __call__\n    self.build(unpack_singleton(input_shapes))\n  File \"/usr/local/lib/python3.6/dist-packages/keras/layers/core.py\", line 872, in build\n    constraint=self.bias_constraint)\n  File \"/usr/local/lib/python3.6/dist-packages/keras/legacy/interfaces.py\", line 91, in wrapper\n    return func(*args, **kwargs)\n  File \"/usr/local/lib/python3.6/dist-packages/keras/engine/base_layer.py\", line 252, in add_weight\n    constraint=constraint)\n  File \"/usr/local/lib/python3.6/dist-packages/keras/backend/tensorflow_backend.py\", line 402, in variable\n    v = tf.Variable(value, dtype=tf.as_dtype(dtype), name=name)\n  File \"/usr/local/lib/python3.6/dist-packages/tensorflow/python/ops/variables.py\", line 213, in __call__\n    return cls._variable_v1_call(*args, **kwargs)\n  File \"/usr/local/lib/python3.6/dist-packages/tensorflow/python/ops/variables.py\", line 176, in _variable_v1_call\n    aggregation=aggregation)\n  File \"/usr/local/lib/python3.6/dist-packages/tensorflow/python/ops/variables.py\", line 155, in <lambda>\n    previous_getter = lambda **kwargs: default_variable_creator(None, **kwargs)\n  File \"/usr/local/lib/python3.6/dist-packages/tensorflow/python/ops/variable_scope.py\", line 2495, in default_variable_creator\n    expected_shape=expected_shape, import_scope=import_scope)\n  File \"/usr/local/lib/python3.6/dist-packages/tensorflow/python/ops/variables.py\", line 217, in __call__\n    return super(VariableMetaclass, cls).__call__(*args, **kwargs)\n  File \"/usr/local/lib/python3.6/dist-packages/tensorflow/python/ops/variables.py\", line 1395, in __init__\n    constraint=constraint)\n  File \"/usr/local/lib/python3.6/dist-packages/tensorflow/python/ops/variables.py\", line 1547, in _init_from_args\n    validate_shape=validate_shape).op\n  File \"/usr/local/lib/python3.6/dist-packages/tensorflow/python/ops/state_ops.py\", line 223, in assign\n    validate_shape=validate_shape)\n  File \"/usr/local/lib/python3.6/dist-packages/tensorflow/python/ops/gen_state_ops.py\", line 64, in assign\n    use_locking=use_locking, name=name)\n  File \"/usr/local/lib/python3.6/dist-packages/tensorflow/python/framework/op_def_library.py\", line 788, in _apply_op_helper\n    op_def=op_def)\n  File \"/usr/local/lib/python3.6/dist-packages/tensorflow/python/util/deprecation.py\", line 507, in new_func\n    return func(*args, **kwargs)\n  File \"/usr/local/lib/python3.6/dist-packages/tensorflow/python/framework/ops.py\", line 3300, in create_op\n    op_def=op_def)\n  File \"/usr/local/lib/python3.6/dist-packages/tensorflow/python/framework/ops.py\", line 1801, in __init__\n    self._traceback = tf_stack.extract_stack()\n\nResourceExhaustedError (see above for traceback): OOM when allocating tensor with shape[3072] and type float on /job:localhost/replica:0/task:0/device:GPU:0 by allocator GPU_0_bfc\n\t [[node dense_2/bias/Assign (defined at /usr/local/lib/python3.6/dist-packages/keras/backend/tensorflow_backend.py:402) ]]\nHint: If you want to see a list of allocated tensors when OOM happens, add report_tensor_allocations_upon_oom to RunOptions for current allocation info.\n\n",
     "output_type": "error",
     "traceback": [
      "\u001b[0;31m---------------------------------------------------------------------------\u001b[0m",
      "\u001b[0;31mResourceExhaustedError\u001b[0m                    Traceback (most recent call last)",
      "\u001b[0;32m/usr/local/lib/python3.6/dist-packages/tensorflow/python/client/session.py\u001b[0m in \u001b[0;36m_do_call\u001b[0;34m(self, fn, *args)\u001b[0m\n\u001b[1;32m   1333\u001b[0m     \u001b[0;32mtry\u001b[0m\u001b[0;34m:\u001b[0m\u001b[0;34m\u001b[0m\u001b[0;34m\u001b[0m\u001b[0m\n\u001b[0;32m-> 1334\u001b[0;31m       \u001b[0;32mreturn\u001b[0m \u001b[0mfn\u001b[0m\u001b[0;34m(\u001b[0m\u001b[0;34m*\u001b[0m\u001b[0margs\u001b[0m\u001b[0;34m)\u001b[0m\u001b[0;34m\u001b[0m\u001b[0;34m\u001b[0m\u001b[0m\n\u001b[0m\u001b[1;32m   1335\u001b[0m     \u001b[0;32mexcept\u001b[0m \u001b[0merrors\u001b[0m\u001b[0;34m.\u001b[0m\u001b[0mOpError\u001b[0m \u001b[0;32mas\u001b[0m \u001b[0me\u001b[0m\u001b[0;34m:\u001b[0m\u001b[0;34m\u001b[0m\u001b[0;34m\u001b[0m\u001b[0m\n",
      "\u001b[0;32m/usr/local/lib/python3.6/dist-packages/tensorflow/python/client/session.py\u001b[0m in \u001b[0;36m_run_fn\u001b[0;34m(feed_dict, fetch_list, target_list, options, run_metadata)\u001b[0m\n\u001b[1;32m   1318\u001b[0m       return self._call_tf_sessionrun(\n\u001b[0;32m-> 1319\u001b[0;31m           options, feed_dict, fetch_list, target_list, run_metadata)\n\u001b[0m\u001b[1;32m   1320\u001b[0m \u001b[0;34m\u001b[0m\u001b[0m\n",
      "\u001b[0;32m/usr/local/lib/python3.6/dist-packages/tensorflow/python/client/session.py\u001b[0m in \u001b[0;36m_call_tf_sessionrun\u001b[0;34m(self, options, feed_dict, fetch_list, target_list, run_metadata)\u001b[0m\n\u001b[1;32m   1406\u001b[0m         \u001b[0mself\u001b[0m\u001b[0;34m.\u001b[0m\u001b[0m_session\u001b[0m\u001b[0;34m,\u001b[0m \u001b[0moptions\u001b[0m\u001b[0;34m,\u001b[0m \u001b[0mfeed_dict\u001b[0m\u001b[0;34m,\u001b[0m \u001b[0mfetch_list\u001b[0m\u001b[0;34m,\u001b[0m \u001b[0mtarget_list\u001b[0m\u001b[0;34m,\u001b[0m\u001b[0;34m\u001b[0m\u001b[0;34m\u001b[0m\u001b[0m\n\u001b[0;32m-> 1407\u001b[0;31m         run_metadata)\n\u001b[0m\u001b[1;32m   1408\u001b[0m \u001b[0;34m\u001b[0m\u001b[0m\n",
      "\u001b[0;31mResourceExhaustedError\u001b[0m: OOM when allocating tensor with shape[3072] and type float on /job:localhost/replica:0/task:0/device:GPU:0 by allocator GPU_0_bfc\n\t [[{{node dense_2/bias/Assign}}]]\nHint: If you want to see a list of allocated tensors when OOM happens, add report_tensor_allocations_upon_oom to RunOptions for current allocation info.\n",
      "\nDuring handling of the above exception, another exception occurred:\n",
      "\u001b[0;31mResourceExhaustedError\u001b[0m                    Traceback (most recent call last)",
      "\u001b[0;32m<ipython-input-12-61056af86d29>\u001b[0m in \u001b[0;36m<module>\u001b[0;34m\u001b[0m\n\u001b[1;32m     34\u001b[0m   \u001b[0mK\u001b[0m\u001b[0;34m.\u001b[0m\u001b[0mset_session\u001b[0m\u001b[0;34m(\u001b[0m\u001b[0msess\u001b[0m\u001b[0;34m)\u001b[0m\u001b[0;34m\u001b[0m\u001b[0;34m\u001b[0m\u001b[0m\n\u001b[1;32m     35\u001b[0m \u001b[0;34m\u001b[0m\u001b[0m\n\u001b[0;32m---> 36\u001b[0;31m   \u001b[0mtf\u001b[0m\u001b[0;34m.\u001b[0m\u001b[0minitialize_all_variables\u001b[0m\u001b[0;34m(\u001b[0m\u001b[0;34m)\u001b[0m\u001b[0;34m.\u001b[0m\u001b[0mrun\u001b[0m\u001b[0;34m(\u001b[0m\u001b[0;34m)\u001b[0m\u001b[0;34m\u001b[0m\u001b[0;34m\u001b[0m\u001b[0m\n\u001b[0m\u001b[1;32m     37\u001b[0m \u001b[0;34m\u001b[0m\u001b[0m\n\u001b[1;32m     38\u001b[0m   \u001b[0;31m# epochs\u001b[0m\u001b[0;34m\u001b[0m\u001b[0;34m\u001b[0m\u001b[0;34m\u001b[0m\u001b[0m\n",
      "\u001b[0;32m/usr/local/lib/python3.6/dist-packages/tensorflow/python/framework/ops.py\u001b[0m in \u001b[0;36mrun\u001b[0;34m(self, feed_dict, session)\u001b[0m\n\u001b[1;32m   2448\u001b[0m         \u001b[0mnone\u001b[0m\u001b[0;34m,\u001b[0m \u001b[0mthe\u001b[0m \u001b[0mdefault\u001b[0m \u001b[0msession\u001b[0m \u001b[0mwill\u001b[0m \u001b[0mbe\u001b[0m \u001b[0mused\u001b[0m\u001b[0;34m.\u001b[0m\u001b[0;34m\u001b[0m\u001b[0;34m\u001b[0m\u001b[0m\n\u001b[1;32m   2449\u001b[0m     \"\"\"\n\u001b[0;32m-> 2450\u001b[0;31m     \u001b[0m_run_using_default_session\u001b[0m\u001b[0;34m(\u001b[0m\u001b[0mself\u001b[0m\u001b[0;34m,\u001b[0m \u001b[0mfeed_dict\u001b[0m\u001b[0;34m,\u001b[0m \u001b[0mself\u001b[0m\u001b[0;34m.\u001b[0m\u001b[0mgraph\u001b[0m\u001b[0;34m,\u001b[0m \u001b[0msession\u001b[0m\u001b[0;34m)\u001b[0m\u001b[0;34m\u001b[0m\u001b[0;34m\u001b[0m\u001b[0m\n\u001b[0m\u001b[1;32m   2451\u001b[0m \u001b[0;34m\u001b[0m\u001b[0m\n\u001b[1;32m   2452\u001b[0m \u001b[0m_gradient_registry\u001b[0m \u001b[0;34m=\u001b[0m \u001b[0mregistry\u001b[0m\u001b[0;34m.\u001b[0m\u001b[0mRegistry\u001b[0m\u001b[0;34m(\u001b[0m\u001b[0;34m\"gradient\"\u001b[0m\u001b[0;34m)\u001b[0m\u001b[0;34m\u001b[0m\u001b[0;34m\u001b[0m\u001b[0m\n",
      "\u001b[0;32m/usr/local/lib/python3.6/dist-packages/tensorflow/python/framework/ops.py\u001b[0m in \u001b[0;36m_run_using_default_session\u001b[0;34m(operation, feed_dict, graph, session)\u001b[0m\n\u001b[1;32m   5214\u001b[0m                        \u001b[0;34m\"the operation's graph is different from the session's \"\u001b[0m\u001b[0;34m\u001b[0m\u001b[0;34m\u001b[0m\u001b[0m\n\u001b[1;32m   5215\u001b[0m                        \"graph.\")\n\u001b[0;32m-> 5216\u001b[0;31m   \u001b[0msession\u001b[0m\u001b[0;34m.\u001b[0m\u001b[0mrun\u001b[0m\u001b[0;34m(\u001b[0m\u001b[0moperation\u001b[0m\u001b[0;34m,\u001b[0m \u001b[0mfeed_dict\u001b[0m\u001b[0;34m)\u001b[0m\u001b[0;34m\u001b[0m\u001b[0;34m\u001b[0m\u001b[0m\n\u001b[0m\u001b[1;32m   5217\u001b[0m \u001b[0;34m\u001b[0m\u001b[0m\n\u001b[1;32m   5218\u001b[0m \u001b[0;34m\u001b[0m\u001b[0m\n",
      "\u001b[0;32m/usr/local/lib/python3.6/dist-packages/tensorflow/python/client/session.py\u001b[0m in \u001b[0;36mrun\u001b[0;34m(self, fetches, feed_dict, options, run_metadata)\u001b[0m\n\u001b[1;32m    927\u001b[0m     \u001b[0;32mtry\u001b[0m\u001b[0;34m:\u001b[0m\u001b[0;34m\u001b[0m\u001b[0;34m\u001b[0m\u001b[0m\n\u001b[1;32m    928\u001b[0m       result = self._run(None, fetches, feed_dict, options_ptr,\n\u001b[0;32m--> 929\u001b[0;31m                          run_metadata_ptr)\n\u001b[0m\u001b[1;32m    930\u001b[0m       \u001b[0;32mif\u001b[0m \u001b[0mrun_metadata\u001b[0m\u001b[0;34m:\u001b[0m\u001b[0;34m\u001b[0m\u001b[0;34m\u001b[0m\u001b[0m\n\u001b[1;32m    931\u001b[0m         \u001b[0mproto_data\u001b[0m \u001b[0;34m=\u001b[0m \u001b[0mtf_session\u001b[0m\u001b[0;34m.\u001b[0m\u001b[0mTF_GetBuffer\u001b[0m\u001b[0;34m(\u001b[0m\u001b[0mrun_metadata_ptr\u001b[0m\u001b[0;34m)\u001b[0m\u001b[0;34m\u001b[0m\u001b[0;34m\u001b[0m\u001b[0m\n",
      "\u001b[0;32m/usr/local/lib/python3.6/dist-packages/tensorflow/python/client/session.py\u001b[0m in \u001b[0;36m_run\u001b[0;34m(self, handle, fetches, feed_dict, options, run_metadata)\u001b[0m\n\u001b[1;32m   1150\u001b[0m     \u001b[0;32mif\u001b[0m \u001b[0mfinal_fetches\u001b[0m \u001b[0;32mor\u001b[0m \u001b[0mfinal_targets\u001b[0m \u001b[0;32mor\u001b[0m \u001b[0;34m(\u001b[0m\u001b[0mhandle\u001b[0m \u001b[0;32mand\u001b[0m \u001b[0mfeed_dict_tensor\u001b[0m\u001b[0;34m)\u001b[0m\u001b[0;34m:\u001b[0m\u001b[0;34m\u001b[0m\u001b[0;34m\u001b[0m\u001b[0m\n\u001b[1;32m   1151\u001b[0m       results = self._do_run(handle, final_targets, final_fetches,\n\u001b[0;32m-> 1152\u001b[0;31m                              feed_dict_tensor, options, run_metadata)\n\u001b[0m\u001b[1;32m   1153\u001b[0m     \u001b[0;32melse\u001b[0m\u001b[0;34m:\u001b[0m\u001b[0;34m\u001b[0m\u001b[0;34m\u001b[0m\u001b[0m\n\u001b[1;32m   1154\u001b[0m       \u001b[0mresults\u001b[0m \u001b[0;34m=\u001b[0m \u001b[0;34m[\u001b[0m\u001b[0;34m]\u001b[0m\u001b[0;34m\u001b[0m\u001b[0;34m\u001b[0m\u001b[0m\n",
      "\u001b[0;32m/usr/local/lib/python3.6/dist-packages/tensorflow/python/client/session.py\u001b[0m in \u001b[0;36m_do_run\u001b[0;34m(self, handle, target_list, fetch_list, feed_dict, options, run_metadata)\u001b[0m\n\u001b[1;32m   1326\u001b[0m     \u001b[0;32mif\u001b[0m \u001b[0mhandle\u001b[0m \u001b[0;32mis\u001b[0m \u001b[0;32mNone\u001b[0m\u001b[0;34m:\u001b[0m\u001b[0;34m\u001b[0m\u001b[0;34m\u001b[0m\u001b[0m\n\u001b[1;32m   1327\u001b[0m       return self._do_call(_run_fn, feeds, fetches, targets, options,\n\u001b[0;32m-> 1328\u001b[0;31m                            run_metadata)\n\u001b[0m\u001b[1;32m   1329\u001b[0m     \u001b[0;32melse\u001b[0m\u001b[0;34m:\u001b[0m\u001b[0;34m\u001b[0m\u001b[0;34m\u001b[0m\u001b[0m\n\u001b[1;32m   1330\u001b[0m       \u001b[0;32mreturn\u001b[0m \u001b[0mself\u001b[0m\u001b[0;34m.\u001b[0m\u001b[0m_do_call\u001b[0m\u001b[0;34m(\u001b[0m\u001b[0m_prun_fn\u001b[0m\u001b[0;34m,\u001b[0m \u001b[0mhandle\u001b[0m\u001b[0;34m,\u001b[0m \u001b[0mfeeds\u001b[0m\u001b[0;34m,\u001b[0m \u001b[0mfetches\u001b[0m\u001b[0;34m)\u001b[0m\u001b[0;34m\u001b[0m\u001b[0;34m\u001b[0m\u001b[0m\n",
      "\u001b[0;32m/usr/local/lib/python3.6/dist-packages/tensorflow/python/client/session.py\u001b[0m in \u001b[0;36m_do_call\u001b[0;34m(self, fn, *args)\u001b[0m\n\u001b[1;32m   1346\u001b[0m           \u001b[0;32mpass\u001b[0m\u001b[0;34m\u001b[0m\u001b[0;34m\u001b[0m\u001b[0m\n\u001b[1;32m   1347\u001b[0m       \u001b[0mmessage\u001b[0m \u001b[0;34m=\u001b[0m \u001b[0merror_interpolation\u001b[0m\u001b[0;34m.\u001b[0m\u001b[0minterpolate\u001b[0m\u001b[0;34m(\u001b[0m\u001b[0mmessage\u001b[0m\u001b[0;34m,\u001b[0m \u001b[0mself\u001b[0m\u001b[0;34m.\u001b[0m\u001b[0m_graph\u001b[0m\u001b[0;34m)\u001b[0m\u001b[0;34m\u001b[0m\u001b[0;34m\u001b[0m\u001b[0m\n\u001b[0;32m-> 1348\u001b[0;31m       \u001b[0;32mraise\u001b[0m \u001b[0mtype\u001b[0m\u001b[0;34m(\u001b[0m\u001b[0me\u001b[0m\u001b[0;34m)\u001b[0m\u001b[0;34m(\u001b[0m\u001b[0mnode_def\u001b[0m\u001b[0;34m,\u001b[0m \u001b[0mop\u001b[0m\u001b[0;34m,\u001b[0m \u001b[0mmessage\u001b[0m\u001b[0;34m)\u001b[0m\u001b[0;34m\u001b[0m\u001b[0;34m\u001b[0m\u001b[0m\n\u001b[0m\u001b[1;32m   1349\u001b[0m \u001b[0;34m\u001b[0m\u001b[0m\n\u001b[1;32m   1350\u001b[0m   \u001b[0;32mdef\u001b[0m \u001b[0m_extend_graph\u001b[0m\u001b[0;34m(\u001b[0m\u001b[0mself\u001b[0m\u001b[0;34m)\u001b[0m\u001b[0;34m:\u001b[0m\u001b[0;34m\u001b[0m\u001b[0;34m\u001b[0m\u001b[0m\n",
      "\u001b[0;31mResourceExhaustedError\u001b[0m: OOM when allocating tensor with shape[3072] and type float on /job:localhost/replica:0/task:0/device:GPU:0 by allocator GPU_0_bfc\n\t [[node dense_2/bias/Assign (defined at /usr/local/lib/python3.6/dist-packages/keras/backend/tensorflow_backend.py:402) ]]\nHint: If you want to see a list of allocated tensors when OOM happens, add report_tensor_allocations_upon_oom to RunOptions for current allocation info.\n\n\nCaused by op 'dense_2/bias/Assign', defined at:\n  File \"/usr/lib/python3.6/runpy.py\", line 193, in _run_module_as_main\n    \"__main__\", mod_spec)\n  File \"/usr/lib/python3.6/runpy.py\", line 85, in _run_code\n    exec(code, run_globals)\n  File \"/home/qamaruddin/.local/lib/python3.6/site-packages/ipykernel_launcher.py\", line 16, in <module>\n    app.launch_new_instance()\n  File \"/usr/lib/python3/dist-packages/traitlets/config/application.py\", line 658, in launch_instance\n    app.start()\n  File \"/home/qamaruddin/.local/lib/python3.6/site-packages/ipykernel/kernelapp.py\", line 505, in start\n    self.io_loop.start()\n  File \"/home/qamaruddin/.local/lib/python3.6/site-packages/tornado/platform/asyncio.py\", line 132, in start\n    self.asyncio_loop.run_forever()\n  File \"/usr/lib/python3.6/asyncio/base_events.py\", line 427, in run_forever\n    self._run_once()\n  File \"/usr/lib/python3.6/asyncio/base_events.py\", line 1440, in _run_once\n    handle._run()\n  File \"/usr/lib/python3.6/asyncio/events.py\", line 145, in _run\n    self._callback(*self._args)\n  File \"/home/qamaruddin/.local/lib/python3.6/site-packages/tornado/ioloop.py\", line 758, in _run_callback\n    ret = callback()\n  File \"/home/qamaruddin/.local/lib/python3.6/site-packages/tornado/stack_context.py\", line 300, in null_wrapper\n    return fn(*args, **kwargs)\n  File \"/home/qamaruddin/.local/lib/python3.6/site-packages/tornado/gen.py\", line 1233, in inner\n    self.run()\n  File \"/home/qamaruddin/.local/lib/python3.6/site-packages/tornado/gen.py\", line 1147, in run\n    yielded = self.gen.send(value)\n  File \"/home/qamaruddin/.local/lib/python3.6/site-packages/ipykernel/kernelbase.py\", line 370, in dispatch_queue\n    yield self.process_one()\n  File \"/home/qamaruddin/.local/lib/python3.6/site-packages/tornado/gen.py\", line 346, in wrapper\n    runner = Runner(result, future, yielded)\n  File \"/home/qamaruddin/.local/lib/python3.6/site-packages/tornado/gen.py\", line 1080, in __init__\n    self.run()\n  File \"/home/qamaruddin/.local/lib/python3.6/site-packages/tornado/gen.py\", line 1147, in run\n    yielded = self.gen.send(value)\n  File \"/home/qamaruddin/.local/lib/python3.6/site-packages/ipykernel/kernelbase.py\", line 357, in process_one\n    yield gen.maybe_future(dispatch(*args))\n  File \"/home/qamaruddin/.local/lib/python3.6/site-packages/tornado/gen.py\", line 326, in wrapper\n    yielded = next(result)\n  File \"/home/qamaruddin/.local/lib/python3.6/site-packages/ipykernel/kernelbase.py\", line 267, in dispatch_shell\n    yield gen.maybe_future(handler(stream, idents, msg))\n  File \"/home/qamaruddin/.local/lib/python3.6/site-packages/tornado/gen.py\", line 326, in wrapper\n    yielded = next(result)\n  File \"/home/qamaruddin/.local/lib/python3.6/site-packages/ipykernel/kernelbase.py\", line 534, in execute_request\n    user_expressions, allow_stdin,\n  File \"/home/qamaruddin/.local/lib/python3.6/site-packages/tornado/gen.py\", line 326, in wrapper\n    yielded = next(result)\n  File \"/home/qamaruddin/.local/lib/python3.6/site-packages/ipykernel/ipkernel.py\", line 294, in do_execute\n    res = shell.run_cell(code, store_history=store_history, silent=silent)\n  File \"/home/qamaruddin/.local/lib/python3.6/site-packages/ipykernel/zmqshell.py\", line 536, in run_cell\n    return super(ZMQInteractiveShell, self).run_cell(*args, **kwargs)\n  File \"/home/qamaruddin/.local/lib/python3.6/site-packages/IPython/core/interactiveshell.py\", line 2819, in run_cell\n    raw_cell, store_history, silent, shell_futures)\n  File \"/home/qamaruddin/.local/lib/python3.6/site-packages/IPython/core/interactiveshell.py\", line 2845, in _run_cell\n    return runner(coro)\n  File \"/home/qamaruddin/.local/lib/python3.6/site-packages/IPython/core/async_helpers.py\", line 67, in _pseudo_sync_runner\n    coro.send(None)\n  File \"/home/qamaruddin/.local/lib/python3.6/site-packages/IPython/core/interactiveshell.py\", line 3020, in run_cell_async\n    interactivity=interactivity, compiler=compiler, result=result)\n  File \"/home/qamaruddin/.local/lib/python3.6/site-packages/IPython/core/interactiveshell.py\", line 3185, in run_ast_nodes\n    if (yield from self.run_code(code, result)):\n  File \"/home/qamaruddin/.local/lib/python3.6/site-packages/IPython/core/interactiveshell.py\", line 3267, in run_code\n    exec(code_obj, self.user_global_ns, self.user_ns)\n  File \"<ipython-input-5-4a0e7b66c110>\", line 1, in <module>\n    generator = build_generator()\n  File \"<ipython-input-4-4f6dce5537c6>\", line 125, in build_generator\n    keras.layers.Activation(tf.nn.tanh),\n  File \"/usr/local/lib/python3.6/dist-packages/keras/engine/sequential.py\", line 93, in __init__\n    self.add(layer)\n  File \"/usr/local/lib/python3.6/dist-packages/keras/engine/sequential.py\", line 181, in add\n    output_tensor = layer(self.outputs[0])\n  File \"/usr/local/lib/python3.6/dist-packages/keras/engine/base_layer.py\", line 431, in __call__\n    self.build(unpack_singleton(input_shapes))\n  File \"/usr/local/lib/python3.6/dist-packages/keras/layers/core.py\", line 872, in build\n    constraint=self.bias_constraint)\n  File \"/usr/local/lib/python3.6/dist-packages/keras/legacy/interfaces.py\", line 91, in wrapper\n    return func(*args, **kwargs)\n  File \"/usr/local/lib/python3.6/dist-packages/keras/engine/base_layer.py\", line 252, in add_weight\n    constraint=constraint)\n  File \"/usr/local/lib/python3.6/dist-packages/keras/backend/tensorflow_backend.py\", line 402, in variable\n    v = tf.Variable(value, dtype=tf.as_dtype(dtype), name=name)\n  File \"/usr/local/lib/python3.6/dist-packages/tensorflow/python/ops/variables.py\", line 213, in __call__\n    return cls._variable_v1_call(*args, **kwargs)\n  File \"/usr/local/lib/python3.6/dist-packages/tensorflow/python/ops/variables.py\", line 176, in _variable_v1_call\n    aggregation=aggregation)\n  File \"/usr/local/lib/python3.6/dist-packages/tensorflow/python/ops/variables.py\", line 155, in <lambda>\n    previous_getter = lambda **kwargs: default_variable_creator(None, **kwargs)\n  File \"/usr/local/lib/python3.6/dist-packages/tensorflow/python/ops/variable_scope.py\", line 2495, in default_variable_creator\n    expected_shape=expected_shape, import_scope=import_scope)\n  File \"/usr/local/lib/python3.6/dist-packages/tensorflow/python/ops/variables.py\", line 217, in __call__\n    return super(VariableMetaclass, cls).__call__(*args, **kwargs)\n  File \"/usr/local/lib/python3.6/dist-packages/tensorflow/python/ops/variables.py\", line 1395, in __init__\n    constraint=constraint)\n  File \"/usr/local/lib/python3.6/dist-packages/tensorflow/python/ops/variables.py\", line 1547, in _init_from_args\n    validate_shape=validate_shape).op\n  File \"/usr/local/lib/python3.6/dist-packages/tensorflow/python/ops/state_ops.py\", line 223, in assign\n    validate_shape=validate_shape)\n  File \"/usr/local/lib/python3.6/dist-packages/tensorflow/python/ops/gen_state_ops.py\", line 64, in assign\n    use_locking=use_locking, name=name)\n  File \"/usr/local/lib/python3.6/dist-packages/tensorflow/python/framework/op_def_library.py\", line 788, in _apply_op_helper\n    op_def=op_def)\n  File \"/usr/local/lib/python3.6/dist-packages/tensorflow/python/util/deprecation.py\", line 507, in new_func\n    return func(*args, **kwargs)\n  File \"/usr/local/lib/python3.6/dist-packages/tensorflow/python/framework/ops.py\", line 3300, in create_op\n    op_def=op_def)\n  File \"/usr/local/lib/python3.6/dist-packages/tensorflow/python/framework/ops.py\", line 1801, in __init__\n    self._traceback = tf_stack.extract_stack()\n\nResourceExhaustedError (see above for traceback): OOM when allocating tensor with shape[3072] and type float on /job:localhost/replica:0/task:0/device:GPU:0 by allocator GPU_0_bfc\n\t [[node dense_2/bias/Assign (defined at /usr/local/lib/python3.6/dist-packages/keras/backend/tensorflow_backend.py:402) ]]\nHint: If you want to see a list of allocated tensors when OOM happens, add report_tensor_allocations_upon_oom to RunOptions for current allocation info.\n\n"
     ]
    }
   ],
   "source": [
    "from keras import backend as K\n",
    "\n",
    "\n",
    "EPOCHS = 10000\n",
    "STEPS = 1024 // BATCH_SIZE\n",
    "\n",
    "\n",
    "train_loss_g = []\n",
    "val_loss_g = []\n",
    "\n",
    "train_loss_d = []\n",
    "val_loss_d = []\n",
    "\n",
    "\n",
    "train_acc_g = []\n",
    "val_acc_g = []\n",
    "\n",
    "train_acc_d = []\n",
    "val_acc_d = []\n",
    "\n",
    "\n",
    "y_fake = tf.zeros((BATCH_SIZE,))\n",
    "y_true = tf.ones((BATCH_SIZE,))\n",
    "\n",
    "\n",
    "config = tf.ConfigProto()\n",
    "config.gpu_options.allow_growth = True\n",
    "config = tf.ConfigProto(allow_soft_placement=True)\n",
    "config.gpu_options.allocator_type = 'BFC'\n",
    "config.gpu_options.per_process_gpu_memory_fraction = 0.40\n",
    "\n",
    "with tf.Session(config=config) as sess:\n",
    "\n",
    "  K.set_session(sess)\n",
    "  \n",
    "  tf.initialize_all_variables().run()\n",
    "\n",
    "  # epochs\n",
    "  for e in range(EPOCHS):\n",
    "\n",
    "    #batches\n",
    "    loss = []\n",
    "    acc = []\n",
    "\n",
    "    for p in range(STEPS):\n",
    "\n",
    "      values = sess.run([variable_dataset])\n",
    "      row = values[0]\n",
    "\n",
    "      sz = row['img'].shape[0]\n",
    "\n",
    "#       if sz != BATCH_SIZE:\n",
    "#         continue\n",
    "\n",
    "      # train discriminator\n",
    "\n",
    "      # fake data\n",
    "      c1 = row['enc']\n",
    "      c2 = tf.cast(row['age'], tf.float32).eval()\n",
    "      x = tf.random.normal((sz, noise_len,)).eval()\n",
    "      z_fake = generator.predict([c1, c2, x])\n",
    "\n",
    "      # real data\n",
    "      c1 = row['enc']\n",
    "      c2 = tf.cast(row['age'], tf.float32).eval()\n",
    "      z_real = tf.reshape(tf.io.decode_raw(row['img'], tf.uint8), (-1, width, height, depth)).eval()\n",
    "\n",
    "      # train\n",
    "      loss_1, acc_1 = discriminator.train_on_batch([c1, c2, z_fake], y_fake.eval())\n",
    "      loss_2, acc_2 = discriminator.train_on_batch([c1, c2, z_real], y_true.eval())\n",
    "\n",
    "      batch_loss = 0.5 * (float(tf.reduce_mean(loss_1).eval()) + float(tf.reduce_mean(loss_2).eval()))\n",
    "      batch_acc = 0.5 * (float(tf.reduce_mean(acc_1).eval()) + float(tf.reduce_mean(acc_2).eval()))\n",
    "\n",
    "      loss.append(batch_loss)\n",
    "      acc.append(batch_acc)\n",
    "\n",
    "    train_loss_d.append(np.mean(np.array(loss)))\n",
    "    train_acc_d.append(np.mean(np.array(acc)))\n",
    "\n",
    "    #batches\n",
    "    loss = []\n",
    "    acc = []\n",
    "\n",
    "    for p in range(STEPS):\n",
    "\n",
    "      values = sess.run([variable_dataset])\n",
    "      row = values[0]\n",
    "\n",
    "      sz = row['img'].shape[0]\n",
    "\n",
    "#       if sz != BATCH_SIZE:\n",
    "#         continue\n",
    "\n",
    "      # train generator\n",
    "\n",
    "      # concatenate face + age + noise\n",
    "      c1 = row['enc']\n",
    "      c2 = tf.cast(row['age'], tf.float32).eval()\n",
    "      x = tf.random.normal((sz, noise_len,)).eval()\n",
    "\n",
    "      # train\n",
    "      loss_1, acc_1 = gan.train_on_batch([c1, c2, x], y_true.eval())\n",
    "\n",
    "      batch_loss = float(tf.reduce_mean(loss_1).eval())\n",
    "      batch_acc = float(tf.reduce_mean(acc_1).eval())\n",
    "\n",
    "      loss.append(batch_loss)\n",
    "      acc.append(batch_acc)\n",
    "\n",
    "    train_loss_g.append(np.mean(np.array(loss)))\n",
    "    train_acc_g.append(np.mean(np.array(acc)))\n",
    "\n",
    "\n",
    "    print(\"Epoch: {}, Steps: {}, Discriminator Loss: {:.3f}, Discriminator Accuracy: %{:.2f}, GAN Loss: {:.3f}, GAN Accuracy: %{:.2f}\".format(\n",
    "          e,\n",
    "          STEPS,\n",
    "          train_loss_d[-1],\n",
    "          train_loss_g[-1],\n",
    "          train_acc_d[-1],\n",
    "          train_acc_g[-1]\n",
    "      ))\n",
    " \n",
    "    if e % 100 == 1:\n",
    "\n",
    "      pth = os.path.join(models_path, 'gan.h5')\n",
    "      gan.save(pth)\n",
    "\n",
    "      pth = os.path.join(models_path, 'generator-{}-{}-{}.h5'.format(e, train_loss_g[-1], train_acc_g[-1]))\n",
    "      generator.save(pth)\n",
    "\n",
    "      pth = os.path.join(models_path, 'discriminator.h5')\n",
    "      discriminator.save(pth)\n"
   ]
  },
  {
   "cell_type": "code",
   "execution_count": null,
   "metadata": {
    "colab": {},
    "colab_type": "code",
    "id": "p0Uxu-RaTBiI"
   },
   "outputs": [],
   "source": [
    "gan.summary()"
   ]
  },
  {
   "cell_type": "code",
   "execution_count": null,
   "metadata": {
    "colab": {},
    "colab_type": "code",
    "id": "bRFK2jHCpfpK"
   },
   "outputs": [],
   "source": [
    "generator.summary()"
   ]
  },
  {
   "cell_type": "code",
   "execution_count": null,
   "metadata": {
    "colab": {},
    "colab_type": "code",
    "id": "HKLt5f22piWS"
   },
   "outputs": [],
   "source": [
    "discriminator.summary()"
   ]
  },
  {
   "cell_type": "code",
   "execution_count": null,
   "metadata": {
    "colab": {},
    "colab_type": "code",
    "id": "-LzhKde-CaDu"
   },
   "outputs": [],
   "source": [
    "from matplotlib import pyplot as plt\n",
    "\n",
    "plt.plot(train_loss_g, label=\"Generator Loss\");\n",
    "plt.plot(train_loss_d, label=\"Discriminator Loss\");\n",
    "plt.legend();"
   ]
  },
  {
   "cell_type": "code",
   "execution_count": null,
   "metadata": {
    "colab": {},
    "colab_type": "code",
    "id": "-YhSUa3fROSg"
   },
   "outputs": [],
   "source": [
    "plt.plot(train_acc_g, label=\"Generator Accuracy\");\n",
    "plt.plot(train_acc_d, label=\"Discriminator Accuracy\");\n",
    "plt.legend()"
   ]
  },
  {
   "cell_type": "code",
   "execution_count": null,
   "metadata": {
    "colab": {},
    "colab_type": "code",
    "id": "E93kpBKFC84Z"
   },
   "outputs": [],
   "source": []
  }
 ],
 "metadata": {
  "accelerator": "GPU",
  "colab": {
   "collapsed_sections": [],
   "name": "Standalone Keras AGE-CGAN",
   "provenance": [],
   "version": "0.3.2"
  },
  "kernelspec": {
   "display_name": "Python 3",
   "language": "python",
   "name": "python3"
  },
  "language_info": {
   "codemirror_mode": {
    "name": "ipython",
    "version": 3
   },
   "file_extension": ".py",
   "mimetype": "text/x-python",
   "name": "python",
   "nbconvert_exporter": "python",
   "pygments_lexer": "ipython3",
   "version": "3.6.7"
  }
 },
 "nbformat": 4,
 "nbformat_minor": 1
}
